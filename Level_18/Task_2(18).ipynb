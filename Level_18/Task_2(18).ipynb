{
 "cells": [
  {
   "cell_type": "code",
   "execution_count": 0,
   "metadata": {
    "application/vnd.databricks.v1+cell": {
     "cellMetadata": {
      "byteLimit": 2048000,
      "rowLimit": 10000
     },
     "inputWidgets": {},
     "nuid": "01b9e3b2-778e-4db1-ae41-511814b5633d",
     "showTitle": false,
     "tableResultSettingsMap": {},
     "title": ""
    }
   },
   "outputs": [],
   "source": [
    "commentary_df = spark.read.csv(\"dbfs:/FileStore/shared_uploads/girish792004@gmail.com/ipl_commentary_data-1.csv\", header=True, inferSchema=True)\n"
   ]
  },
  {
   "cell_type": "code",
   "execution_count": 0,
   "metadata": {
    "application/vnd.databricks.v1+cell": {
     "cellMetadata": {
      "byteLimit": 2048000,
      "rowLimit": 10000
     },
     "inputWidgets": {},
     "nuid": "3add64db-db95-4b1c-8681-e48b9582ba86",
     "showTitle": false,
     "tableResultSettingsMap": {},
     "title": ""
    }
   },
   "outputs": [],
   "source": [
    "commentary_df.createOrReplaceTempView(\"ipl_commentary\")\n"
   ]
  },
  {
   "cell_type": "code",
   "execution_count": 0,
   "metadata": {
    "application/vnd.databricks.v1+cell": {
     "cellMetadata": {
      "byteLimit": 2048000,
      "rowLimit": 10000
     },
     "inputWidgets": {},
     "nuid": "4f99549b-f1e9-41d0-b45a-a6027ccd19ee",
     "showTitle": false,
     "tableResultSettingsMap": {},
     "title": ""
    }
   },
   "outputs": [
    {
     "output_type": "stream",
     "name": "stdout",
     "output_type": "stream",
     "text": [
      "+----+-----------+--------------------+---------+----------+--------+--------------------+------------+--------------------+-----------------+--------------------+--------------------+--------------------+--------------------+--------------------+----------+----------+-----------+-------------+-----------+-------------+-------------+-------------+--------------------+-------------------+-------------+-------------+--------------------+-------------------+-------+-------+--------------------+\n|year|series_type|         series_name| match_no|match_type|match_id|         match_venue|match_status|  match_winning_team|match_tie_breaker|          match_toss|             umpires|       match_referee|       third_umpires|      match_datetime|team1_name|team2_name|team1_score|team1_wickets|team2_score|team2_wickets|team1_captain|team1_players|         team1_bench|team1_support_staff|team2_captain|team2_players|         team2_bench|team2_support_staff|ball_no|over_no|     ball_commentary|\n+----+-----------+--------------------+---------+----------+--------+--------------------+------------+--------------------+-----------------+--------------------+--------------------+--------------------+--------------------+--------------------+----------+----------+-----------+-------------+-----------+-------------+-------------+-------------+--------------------+-------------------+-------------+-------------+--------------------+-------------------+-------+-------+--------------------+\n|2021| T20 League|Indian Premier Le...|1st Match|   T20 IPL|   35612|{'stadium': 'MA C...|   completed|Royal Challengers...|             null|Royal Challengers...|KN Anantha Padman...|Vengalil Narayana...|Chettithody Shams...|2021-04-09 19:30:...|        MI|       RCB|        159|            9|        160|            8|         null|           []|Nathan Coulter-Ni...|               null|         null|           []|Adam Zampa, Devdu...|               null|      1|    0.1|Siraj to Rohit, 2...|\n|2021| T20 League|Indian Premier Le...|1st Match|   T20 IPL|   35612|{'stadium': 'MA C...|   completed|Royal Challengers...|             null|Royal Challengers...|KN Anantha Padman...|Vengalil Narayana...|Chettithody Shams...|2021-04-09 19:30:...|        MI|       RCB|        159|            9|        160|            8|         null|           []|Nathan Coulter-Ni...|               null|         null|           []|Adam Zampa, Devdu...|               null|      2|    0.2|Siraj to Rohit, n...|\n|2021| T20 League|Indian Premier Le...|1st Match|   T20 IPL|   35612|{'stadium': 'MA C...|   completed|Royal Challengers...|             null|Royal Challengers...|KN Anantha Padman...|Vengalil Narayana...|Chettithody Shams...|2021-04-09 19:30:...|        MI|       RCB|        159|            9|        160|            8|         null|           []|Nathan Coulter-Ni...|               null|         null|           []|Adam Zampa, Devdu...|               null|      3|    0.3|Siraj to Rohit, n...|\n|2021| T20 League|Indian Premier Le...|1st Match|   T20 IPL|   35612|{'stadium': 'MA C...|   completed|Royal Challengers...|             null|Royal Challengers...|KN Anantha Padman...|Vengalil Narayana...|Chettithody Shams...|2021-04-09 19:30:...|        MI|       RCB|        159|            9|        160|            8|         null|           []|Nathan Coulter-Ni...|               null|         null|           []|Adam Zampa, Devdu...|               null|      4|    0.4|Siraj to Rohit, 2...|\n|2021| T20 League|Indian Premier Le...|1st Match|   T20 IPL|   35612|{'stadium': 'MA C...|   completed|Royal Challengers...|             null|Royal Challengers...|KN Anantha Padman...|Vengalil Narayana...|Chettithody Shams...|2021-04-09 19:30:...|        MI|       RCB|        159|            9|        160|            8|         null|           []|Nathan Coulter-Ni...|               null|         null|           []|Adam Zampa, Devdu...|               null|      5|    0.5|Siraj to Rohit, n...|\n|2021| T20 League|Indian Premier Le...|1st Match|   T20 IPL|   35612|{'stadium': 'MA C...|   completed|Royal Challengers...|             null|Royal Challengers...|KN Anantha Padman...|Vengalil Narayana...|Chettithody Shams...|2021-04-09 19:30:...|        MI|       RCB|        159|            9|        160|            8|         null|           []|Nathan Coulter-Ni...|               null|         null|           []|Adam Zampa, Devdu...|               null|      6|    0.6|Siraj to Rohit, 1...|\n|2021| T20 League|Indian Premier Le...|1st Match|   T20 IPL|   35612|{'stadium': 'MA C...|   completed|Royal Challengers...|             null|Royal Challengers...|KN Anantha Padman...|Vengalil Narayana...|Chettithody Shams...|2021-04-09 19:30:...|        MI|       RCB|        159|            9|        160|            8|         null|           []|Nathan Coulter-Ni...|               null|         null|           []|Adam Zampa, Devdu...|               null|      7|    1.1|Jamieson to Rohit...|\n|2021| T20 League|Indian Premier Le...|1st Match|   T20 IPL|   35612|{'stadium': 'MA C...|   completed|Royal Challengers...|             null|Royal Challengers...|KN Anantha Padman...|Vengalil Narayana...|Chettithody Shams...|2021-04-09 19:30:...|        MI|       RCB|        159|            9|        160|            8|         null|           []|Nathan Coulter-Ni...|               null|         null|           []|Adam Zampa, Devdu...|               null|      8|    1.2|Jamieson to Chris...|\n|2021| T20 League|Indian Premier Le...|1st Match|   T20 IPL|   35612|{'stadium': 'MA C...|   completed|Royal Challengers...|             null|Royal Challengers...|KN Anantha Padman...|Vengalil Narayana...|Chettithody Shams...|2021-04-09 19:30:...|        MI|       RCB|        159|            9|        160|            8|         null|           []|Nathan Coulter-Ni...|               null|         null|           []|Adam Zampa, Devdu...|               null|      9|    1.3|Jamieson to Chris...|\n|2021| T20 League|Indian Premier Le...|1st Match|   T20 IPL|   35612|{'stadium': 'MA C...|   completed|Royal Challengers...|             null|Royal Challengers...|KN Anantha Padman...|Vengalil Narayana...|Chettithody Shams...|2021-04-09 19:30:...|        MI|       RCB|        159|            9|        160|            8|         null|           []|Nathan Coulter-Ni...|               null|         null|           []|Adam Zampa, Devdu...|               null|     10|    1.4|Jamieson to Chris...|\n+----+-----------+--------------------+---------+----------+--------+--------------------+------------+--------------------+-----------------+--------------------+--------------------+--------------------+--------------------+--------------------+----------+----------+-----------+-------------+-----------+-------------+-------------+-------------+--------------------+-------------------+-------------+-------------+--------------------+-------------------+-------+-------+--------------------+\n\n"
     ]
    }
   ],
   "source": [
    "spark.sql(\"SELECT * FROM ipl_commentary LIMIT 10\").show()\n"
   ]
  }
 ],
 "metadata": {
  "application/vnd.databricks.v1+notebook": {
   "computePreferences": null,
   "dashboards": [],
   "environmentMetadata": {
    "base_environment": "",
    "environment_version": "1"
   },
   "inputWidgetPreferences": null,
   "language": "python",
   "notebookMetadata": {
    "pythonIndentUnit": 4
   },
   "notebookName": "Task_2(18)",
   "widgets": {}
  }
 },
 "nbformat": 4,
 "nbformat_minor": 0
}