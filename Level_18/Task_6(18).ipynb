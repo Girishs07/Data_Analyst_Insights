{
 "cells": [
  {
   "cell_type": "code",
   "execution_count": 0,
   "metadata": {
    "application/vnd.databricks.v1+cell": {
     "cellMetadata": {
      "byteLimit": 2048000,
      "rowLimit": 10000
     },
     "inputWidgets": {},
     "nuid": "a05d7786-6c8e-4cd2-9451-83509c65c2c4",
     "showTitle": false,
     "tableResultSettingsMap": {},
     "title": ""
    }
   },
   "outputs": [],
   "source": [
    "commentary_df = spark.read.csv(\"dbfs:/FileStore/shared_uploads/girish792004@gmail.com/ipl_commentary_data-1.csv\", header=True, inferSchema=True)"
   ]
  },
  {
   "cell_type": "code",
   "execution_count": 0,
   "metadata": {
    "application/vnd.databricks.v1+cell": {
     "cellMetadata": {
      "byteLimit": 2048000,
      "rowLimit": 10000
     },
     "inputWidgets": {},
     "nuid": "46d04987-4ca0-40bf-a1c9-9e40baed8289",
     "showTitle": false,
     "tableResultSettingsMap": {},
     "title": ""
    }
   },
   "outputs": [
    {
     "output_type": "stream",
     "name": "stdout",
     "output_type": "stream",
     "text": [
      "['year', 'series_type', 'series_name', 'match_no', 'match_type', 'match_id', 'match_venue', 'match_status', 'match_winning_team', 'match_tie_breaker', 'match_toss', 'umpires', 'match_referee', 'third_umpires', 'match_datetime', 'team1_name', 'team2_name', 'team1_score', 'team1_wickets', 'team2_score', 'team2_wickets', 'team1_captain', 'team1_players', 'team1_bench', 'team1_support_staff', 'team2_captain', 'team2_players', 'team2_bench', 'team2_support_staff', 'ball_no', 'over_no', 'ball_commentary', 'runs', 'bowler', 'batsman']\n"
     ]
    }
   ],
   "source": [
    "print(commentary_df.columns)"
   ]
  },
  {
   "cell_type": "code",
   "execution_count": 0,
   "metadata": {
    "application/vnd.databricks.v1+cell": {
     "cellMetadata": {
      "byteLimit": 2048000,
      "rowLimit": 10000
     },
     "inputWidgets": {},
     "nuid": "c98a0041-a6b6-4f56-aa68-739b964cc8b0",
     "showTitle": false,
     "tableResultSettingsMap": {},
     "title": ""
    }
   },
   "outputs": [
    {
     "output_type": "stream",
     "name": "stdout",
     "output_type": "stream",
     "text": [
      "+-------+--------+----------+----+\n|ball_no|bowler  |batsman   |runs|\n+-------+--------+----------+----+\n|1      |Siraj   |Rohit     |2   |\n|2      |Siraj   |Rohit     |0   |\n|3      |Siraj   |Rohit     |0   |\n|4      |Siraj   |Rohit     |2   |\n|5      |Siraj   |Rohit     |0   |\n|6      |Siraj   |Rohit     |1   |\n|7      |Jamieson|Rohit     |1   |\n|8      |Jamieson|Chris Lynn|0   |\n|9      |Jamieson|Chris Lynn|0   |\n|10     |Jamieson|Chris Lynn|0   |\n|11     |Jamieson|Chris Lynn|0   |\n|12     |Jamieson|Chris Lynn|0   |\n|13     |Siraj   |Rohit     |0   |\n|14     |Siraj   |Rohit     |0   |\n|15     |Siraj   |Rohit     |0   |\n|16     |Siraj   |Rohit     |0   |\n|17     |Siraj   |Rohit     |4   |\n|18     |Siraj   |Rohit     |2   |\n|19     |Chahal  |Chris Lynn|0   |\n|20     |Chahal  |Chris Lynn|4   |\n+-------+--------+----------+----+\nonly showing top 20 rows\n\n"
     ]
    }
   ],
   "source": [
    "commentary_df.select(\"ball_no\", \"bowler\", \"batsman\", \"runs\").show(truncate=False)"
   ]
  },
  {
   "cell_type": "code",
   "execution_count": 0,
   "metadata": {
    "application/vnd.databricks.v1+cell": {
     "cellMetadata": {
      "byteLimit": 2048000,
      "rowLimit": 10000
     },
     "inputWidgets": {},
     "nuid": "4dab2e71-fa5e-477a-92fb-67db6ee111fd",
     "showTitle": false,
     "tableResultSettingsMap": {},
     "title": ""
    }
   },
   "outputs": [],
   "source": [
    "from pyspark.sql.functions import col\n",
    "from pyspark.sql.types import IntegerType\n",
    "\n",
    "commentary_df = commentary_df.withColumn(\"runs\", col(\"runs\").cast(IntegerType()))\n"
   ]
  },
  {
   "cell_type": "code",
   "execution_count": 0,
   "metadata": {
    "application/vnd.databricks.v1+cell": {
     "cellMetadata": {
      "byteLimit": 2048000,
      "rowLimit": 10000
     },
     "inputWidgets": {},
     "nuid": "9b2a3699-4536-4bbe-8b56-92630ec02a73",
     "showTitle": false,
     "tableResultSettingsMap": {},
     "title": ""
    }
   },
   "outputs": [
    {
     "output_type": "stream",
     "name": "stdout",
     "output_type": "stream",
     "text": [
      "+----------------+---------+\n|         batsman|sum(runs)|\n+----------------+---------+\n|           Kohli|     5933|\n|Suryakumar Yadav|     5073|\n|     de Villiers|     4575|\n|    Ishan Kishan|     4499|\n|      Chris Lynn|     4471|\n|           Rahul|     4072|\n|         Maxwell|     4070|\n|           Rohit|     3993|\n|          Dhawan|     3864|\n|         Buttler|     3715|\n|          Samson|     3586|\n|      du Plessis|     3477|\n|    Shubman Gill|     3375|\n|          Warner|     3310|\n|            Pant|     3309|\n|   Hardik Pandya|     3253|\n|    Shreyas Iyer|     3071|\n|     Nitish Rana|     2733|\n|         Karthik|     2712|\n|         de Kock|     2604|\n+----------------+---------+\nonly showing top 20 rows\n\n"
     ]
    }
   ],
   "source": [
    "commentary_df.groupBy(\"batsman\").sum(\"runs\").orderBy(\"sum(runs)\", ascending=False).show()\n"
   ]
  },
  {
   "cell_type": "code",
   "execution_count": 0,
   "metadata": {
    "application/vnd.databricks.v1+cell": {
     "cellMetadata": {
      "byteLimit": 2048000,
      "rowLimit": 10000
     },
     "inputWidgets": {},
     "nuid": "2984c9b4-c2ec-4f71-a6aa-e6bb53b4d73e",
     "showTitle": false,
     "tableResultSettingsMap": {},
     "title": ""
    }
   },
   "outputs": [],
   "source": [
    "import re\n",
    "\n",
    "def parse_commentary(text):\n",
    "    try:\n",
    "        match = re.match(r\"(.+?) to (.+?),\", text)\n",
    "        bowler = match.group(1).strip() if match else None\n",
    "        batsman = match.group(2).strip() if match else None\n",
    "        \n",
    "        text = text.lower()\n",
    "        if \"six\" in text:\n",
    "            runs = 6\n",
    "        elif \"four\" in text:\n",
    "            runs = 4\n",
    "        elif \"no run\" in text:\n",
    "            runs = 0\n",
    "        else:\n",
    "            run_match = re.search(r\"(\\d+) run\", text)\n",
    "            runs = int(run_match.group(1)) if run_match else 0\n",
    "\n",
    "        return (runs, bowler, batsman)\n",
    "    except:\n",
    "        return (None, None, None)\n"
   ]
  },
  {
   "cell_type": "code",
   "execution_count": 0,
   "metadata": {
    "application/vnd.databricks.v1+cell": {
     "cellMetadata": {
      "byteLimit": 2048000,
      "rowLimit": 10000
     },
     "inputWidgets": {},
     "nuid": "7b565b2e-079e-40cc-95fd-1aad0ee3eae5",
     "showTitle": false,
     "tableResultSettingsMap": {},
     "title": ""
    }
   },
   "outputs": [],
   "source": [
    "from pyspark.sql.functions import udf\n",
    "from pyspark.sql.types import StructType, StructField, IntegerType, StringType\n",
    "\n",
    "schema = StructType([\n",
    "    StructField(\"runs\", IntegerType(), True),\n",
    "    StructField(\"bowler\", StringType(), True),\n",
    "    StructField(\"batsman\", StringType(), True),\n",
    "])\n",
    "\n",
    "parse_udf = udf(parse_commentary, schema)\n"
   ]
  },
  {
   "cell_type": "code",
   "execution_count": 0,
   "metadata": {
    "application/vnd.databricks.v1+cell": {
     "cellMetadata": {
      "byteLimit": 2048000,
      "rowLimit": 10000
     },
     "inputWidgets": {},
     "nuid": "e7f717eb-0d10-423b-9d36-9e4dff2b9786",
     "showTitle": false,
     "tableResultSettingsMap": {},
     "title": ""
    }
   },
   "outputs": [],
   "source": [
    "commentary_df = commentary_df.withColumn(\"parsed\", parse_udf(\"ball_commentary\"))\n",
    "\n",
    "# Split into separate columns\n",
    "commentary_df = commentary_df.withColumn(\"runs\", commentary_df[\"parsed.runs\"]) \\\n",
    "                             .withColumn(\"bowler\", commentary_df[\"parsed.bowler\"]) \\\n",
    "                             .withColumn(\"batsman\", commentary_df[\"parsed.batsman\"]) \\\n",
    "                             .drop(\"parsed\")\n"
   ]
  },
  {
   "cell_type": "code",
   "execution_count": 0,
   "metadata": {
    "application/vnd.databricks.v1+cell": {
     "cellMetadata": {
      "byteLimit": 2048000,
      "rowLimit": 10000
     },
     "inputWidgets": {},
     "nuid": "ca5a7c6f-31d2-4f5a-ad4d-04a14922a133",
     "showTitle": false,
     "tableResultSettingsMap": {},
     "title": ""
    }
   },
   "outputs": [
    {
     "output_type": "stream",
     "name": "stdout",
     "output_type": "stream",
     "text": [
      "+-------+--------+----------+----+\n|ball_no|  bowler|   batsman|runs|\n+-------+--------+----------+----+\n|      1|   Siraj|     Rohit|   2|\n|      2|   Siraj|     Rohit|   0|\n|      3|   Siraj|     Rohit|   0|\n|      4|   Siraj|     Rohit|   2|\n|      5|   Siraj|     Rohit|   0|\n|      6|   Siraj|     Rohit|   1|\n|      7|Jamieson|     Rohit|   1|\n|      8|Jamieson|Chris Lynn|   0|\n|      9|Jamieson|Chris Lynn|   0|\n|     10|Jamieson|Chris Lynn|   0|\n|     11|Jamieson|Chris Lynn|   0|\n|     12|Jamieson|Chris Lynn|   0|\n|     13|   Siraj|     Rohit|   0|\n|     14|   Siraj|     Rohit|   0|\n|     15|   Siraj|     Rohit|   0|\n|     16|   Siraj|     Rohit|   0|\n|     17|   Siraj|     Rohit|   4|\n|     18|   Siraj|     Rohit|   2|\n|     19|  Chahal|Chris Lynn|   0|\n|     20|  Chahal|Chris Lynn|   4|\n+-------+--------+----------+----+\nonly showing top 20 rows\n\n"
     ]
    }
   ],
   "source": [
    "commentary_df.select(\"ball_no\", \"bowler\", \"batsman\", \"runs\").show(20)\n"
   ]
  }
 ],
 "metadata": {
  "application/vnd.databricks.v1+notebook": {
   "computePreferences": null,
   "dashboards": [],
   "environmentMetadata": {
    "base_environment": "",
    "environment_version": "1"
   },
   "inputWidgetPreferences": null,
   "language": "python",
   "notebookMetadata": {
    "pythonIndentUnit": 4
   },
   "notebookName": "Task_6(18)",
   "widgets": {}
  }
 },
 "nbformat": 4,
 "nbformat_minor": 0
}