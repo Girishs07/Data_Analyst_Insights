{
 "cells": [
  {
   "cell_type": "code",
   "execution_count": 0,
   "metadata": {
    "application/vnd.databricks.v1+cell": {
     "cellMetadata": {
      "byteLimit": 2048000,
      "rowLimit": 10000
     },
     "inputWidgets": {},
     "nuid": "5d489021-f33f-4e99-91b2-b666bd26c316",
     "showTitle": false,
     "tableResultSettingsMap": {},
     "title": ""
    }
   },
   "outputs": [],
   "source": [
    "commentary_df = spark.read.csv(\"dbfs:/FileStore/shared_uploads/girish792004@gmail.com/ipl_commentary_data-1.csv\", header=True, inferSchema=True)\n"
   ]
  },
  {
   "cell_type": "code",
   "execution_count": 0,
   "metadata": {
    "application/vnd.databricks.v1+cell": {
     "cellMetadata": {
      "byteLimit": 2048000,
      "rowLimit": 10000
     },
     "inputWidgets": {},
     "nuid": "02c94378-d792-4b7e-893b-8b3cfc4689e9",
     "showTitle": false,
     "tableResultSettingsMap": {},
     "title": ""
    }
   },
   "outputs": [
    {
     "output_type": "stream",
     "name": "stdout",
     "output_type": "stream",
     "text": [
      "Out[3]: [FileInfo(path='dbfs:/FileStore/tables/ipl_over_data-1.csv', name='ipl_over_data-1.csv', size=20877706, modificationTime=1745304708000),\n FileInfo(path='dbfs:/FileStore/tables/ipl_over_data-2.csv', name='ipl_over_data-2.csv', size=20877706, modificationTime=1745383026000),\n FileInfo(path='dbfs:/FileStore/tables/ipl_over_data.csv', name='ipl_over_data.csv', size=20877706, modificationTime=1745297693000),\n FileInfo(path='dbfs:/FileStore/tables/ipl_players_href-1.csv', name='ipl_players_href-1.csv', size=53109, modificationTime=1745296429000),\n FileInfo(path='dbfs:/FileStore/tables/ipl_players_href.csv', name='ipl_players_href.csv', size=53109, modificationTime=1745296336000),\n FileInfo(path='dbfs:/FileStore/tables/output_csv/', name='output_csv/', size=0, modificationTime=0),\n FileInfo(path='dbfs:/FileStore/tables/output_parquet/', name='output_parquet/', size=0, modificationTime=0)]"
     ]
    }
   ],
   "source": [
    "dbutils.fs.ls(\"dbfs:/FileStore/tables/\")\n"
   ]
  },
  {
   "cell_type": "code",
   "execution_count": 0,
   "metadata": {
    "application/vnd.databricks.v1+cell": {
     "cellMetadata": {
      "byteLimit": 2048000,
      "rowLimit": 10000
     },
     "inputWidgets": {},
     "nuid": "8c5a3e52-d399-468c-9db4-777c71aa53ce",
     "showTitle": false,
     "tableResultSettingsMap": {},
     "title": ""
    }
   },
   "outputs": [
    {
     "output_type": "stream",
     "name": "stdout",
     "output_type": "stream",
     "text": [
      "+----+-----------+--------------------+---------+----------+--------+--------------------+------------+--------------------+-----------------+--------------------+--------------------+--------------------+--------------------+--------------------+----------+----------+-----------+-------------+-----------+-------------+-------------+-------------+--------------------+-------------------+-------------+-------------+--------------------+-------------------+-------+---------------+--------------+------------------+----------------------+--------------------------+------------------+----------------------+--------------------------+-----------------+------------------------+--------------------------+-----------------------+--------------------------+\n|year|series_type|         series_name| match_no|match_type|match_id|         match_venue|match_status|  match_winning_team|match_tie_breaker|          match_toss|             umpires|       match_referee|       third_umpires|      match_datetime|team1_name|team2_name|team1_score|team1_wickets|team2_score|team2_wickets|team1_captain|team1_players|         team1_bench|team1_support_staff|team2_captain|team2_players|         team2_bench|team2_support_staff|over_no|over_total_runs|  over_summary|over_batsman1_name|over_batsman1_curr_scr|over_batsman1_played_balls|over_batsman2_name|over_batsman2_curr_scr|over_batsman2_played_balls| over_bowler_name|over_bowler_bowled_overs|over_bowler_bowled_maidens|over_bowler_bowled_runs|over_bowler_bowled_wickets|\n+----+-----------+--------------------+---------+----------+--------+--------------------+------------+--------------------+-----------------+--------------------+--------------------+--------------------+--------------------+--------------------+----------+----------+-----------+-------------+-----------+-------------+-------------+-------------+--------------------+-------------------+-------------+-------------+--------------------+-------------------+-------+---------------+--------------+------------------+----------------------+--------------------------+------------------+----------------------+--------------------------+-----------------+------------------------+--------------------------+-----------------------+--------------------------+\n|2021| T20 League|Indian Premier Le...|1st Match|   T20 IPL|   35612|{'stadium': 'MA C...|   completed|Royal Challengers...|             null|Royal Challengers...|KN Anantha Padman...|Vengalil Narayana...|Chettithody Shams...|2021-04-09 19:30:...|        MI|       RCB|        159|            9|        160|            8|         null|           []|Nathan Coulter-Ni...|               null|         null|           []|Adam Zampa, Devdu...|               null|      1|              5|   2 0 0 2 0 1|      Rohit Sharma|                     5|                         6|        Chris Lynn|                     0|                         0|   Mohammed Siraj|                       1|                         0|                      5|                         0|\n|2021| T20 League|Indian Premier Le...|1st Match|   T20 IPL|   35612|{'stadium': 'MA C...|   completed|Royal Challengers...|             null|Royal Challengers...|KN Anantha Padman...|Vengalil Narayana...|Chettithody Shams...|2021-04-09 19:30:...|        MI|       RCB|        159|            9|        160|            8|         null|           []|Nathan Coulter-Ni...|               null|         null|           []|Adam Zampa, Devdu...|               null|      2|              1|   1 0 0 0 0 0|        Chris Lynn|                     0|                         5|      Rohit Sharma|                     6|                         7|    Kyle Jamieson|                       1|                         0|                      1|                         0|\n|2021| T20 League|Indian Premier Le...|1st Match|   T20 IPL|   35612|{'stadium': 'MA C...|   completed|Royal Challengers...|             null|Royal Challengers...|KN Anantha Padman...|Vengalil Narayana...|Chettithody Shams...|2021-04-09 19:30:...|        MI|       RCB|        159|            9|        160|            8|         null|           []|Nathan Coulter-Ni...|               null|         null|           []|Adam Zampa, Devdu...|               null|      3|              6|   0 0 0 0 4 2|      Rohit Sharma|                    12|                        13|        Chris Lynn|                     0|                         5|   Mohammed Siraj|                       2|                         0|                     11|                         0|\n|2021| T20 League|Indian Premier Le...|1st Match|   T20 IPL|   35612|{'stadium': 'MA C...|   completed|Royal Challengers...|             null|Royal Challengers...|KN Anantha Padman...|Vengalil Narayana...|Chettithody Shams...|2021-04-09 19:30:...|        MI|       RCB|        159|            9|        160|            8|         null|           []|Nathan Coulter-Ni...|               null|         null|           []|Adam Zampa, Devdu...|               null|      4|             12|   0 4 1 6 1 W|        Chris Lynn|                     5|                         9|      Rohit Sharma|                    19|                        15| Yuzvendra Chahal|                       1|                         0|                     12|                         0|\n|2021| T20 League|Indian Premier Le...|1st Match|   T20 IPL|   35612|{'stadium': 'MA C...|   completed|Royal Challengers...|             null|Royal Challengers...|KN Anantha Padman...|Vengalil Narayana...|Chettithody Shams...|2021-04-09 19:30:...|        MI|       RCB|        159|            9|        160|            8|         null|           []|Nathan Coulter-Ni...|               null|         null|           []|Adam Zampa, Devdu...|               null|      5|              6|   4 0 1 1 0 0|  Suryakumar Yadav|                     5|                         5|        Chris Lynn|                     6|                        10|    Kyle Jamieson|                       2|                         0|                      7|                         0|\n|2021| T20 League|Indian Premier Le...|1st Match|   T20 IPL|   35612|{'stadium': 'MA C...|   completed|Royal Challengers...|             null|Royal Challengers...|KN Anantha Padman...|Vengalil Narayana...|Chettithody Shams...|2021-04-09 19:30:...|        MI|       RCB|        159|            9|        160|            8|         null|           []|Nathan Coulter-Ni...|               null|         null|           []|Adam Zampa, Devdu...|               null|      6|             11|   0 6 0 1 0 4|  Suryakumar Yadav|                     9|                         7|        Chris Lynn|                    13|                        14| Yuzvendra Chahal|                       2|                         0|                     23|                         0|\n|2021| T20 League|Indian Premier Le...|1st Match|   T20 IPL|   35612|{'stadium': 'MA C...|   completed|Royal Challengers...|             null|Royal Challengers...|KN Anantha Padman...|Vengalil Narayana...|Chettithody Shams...|2021-04-09 19:30:...|        MI|       RCB|        159|            9|        160|            8|         null|           []|Nathan Coulter-Ni...|               null|         null|           []|Adam Zampa, Devdu...|               null|      7|             14|   1 1 4 6 1 1|  Suryakumar Yadav|                    11|                         9|        Chris Lynn|                    25|                        18|    Shahbaz Ahmed|                       1|                         0|                     14|                         0|\n|2021| T20 League|Indian Premier Le...|1st Match|   T20 IPL|   35612|{'stadium': 'MA C...|   completed|Royal Challengers...|             null|Royal Challengers...|KN Anantha Padman...|Vengalil Narayana...|Chettithody Shams...|2021-04-09 19:30:...|        MI|       RCB|        159|            9|        160|            8|         null|           []|Nathan Coulter-Ni...|               null|         null|           []|Adam Zampa, Devdu...|               null|      8|             15|N1 6 1 0 4 1 1|        Chris Lynn|                    33|                        21|  Suryakumar Yadav|                    17|                        13|    Harshal Patel|                       1|                         0|                     15|                         0|\n|2021| T20 League|Indian Premier Le...|1st Match|   T20 IPL|   35612|{'stadium': 'MA C...|   completed|Royal Challengers...|             null|Royal Challengers...|KN Anantha Padman...|Vengalil Narayana...|Chettithody Shams...|2021-04-09 19:30:...|        MI|       RCB|        159|            9|        160|            8|         null|           []|Nathan Coulter-Ni...|               null|         null|           []|Adam Zampa, Devdu...|               null|      9|             13|1 4 1 2 Wd 4 0|        Chris Lynn|                    40|                        25|  Suryakumar Yadav|                    22|                        15| Daniel Christian|                       1|                         0|                     13|                         0|\n|2021| T20 League|Indian Premier Le...|1st Match|   T20 IPL|   35612|{'stadium': 'MA C...|   completed|Royal Challengers...|             null|Royal Challengers...|KN Anantha Padman...|Vengalil Narayana...|Chettithody Shams...|2021-04-09 19:30:...|        MI|       RCB|        159|            9|        160|            8|         null|           []|Nathan Coulter-Ni...|               null|         null|           []|Adam Zampa, Devdu...|               null|     10|              3|   0 1 1 1 0 0|        Chris Lynn|                    41|                        28|  Suryakumar Yadav|                    24|                        18| Yuzvendra Chahal|                       3|                         0|                     26|                         0|\n|2021| T20 League|Indian Premier Le...|1st Match|   T20 IPL|   35612|{'stadium': 'MA C...|   completed|Royal Challengers...|             null|Royal Challengers...|KN Anantha Padman...|Vengalil Narayana...|Chettithody Shams...|2021-04-09 19:30:...|        MI|       RCB|        159|            9|        160|            8|         null|           []|Nathan Coulter-Ni...|               null|         null|           []|Adam Zampa, Devdu...|               null|     11|              8|   1 1 0 6 0 W|  Suryakumar Yadav|                    31|                        23|        Chris Lynn|                    42|                        29|    Kyle Jamieson|                       3|                         0|                     15|                         1|\n|2021| T20 League|Indian Premier Le...|1st Match|   T20 IPL|   35612|{'stadium': 'MA C...|   completed|Royal Challengers...|             null|Royal Challengers...|KN Anantha Padman...|Vengalil Narayana...|Chettithody Shams...|2021-04-09 19:30:...|        MI|       RCB|        159|            9|        160|            8|         null|           []|Nathan Coulter-Ni...|               null|         null|           []|Adam Zampa, Devdu...|               null|     12|              4|   1 0 1 0 1 1|      Ishan Kishan|                     2|                         3|        Chris Lynn|                    44|                        32|   Mohammed Siraj|                       3|                         0|                     15|                         0|\n|2021| T20 League|Indian Premier Le...|1st Match|   T20 IPL|   35612|{'stadium': 'MA C...|   completed|Royal Challengers...|             null|Royal Challengers...|KN Anantha Padman...|Vengalil Narayana...|Chettithody Shams...|2021-04-09 19:30:...|        MI|       RCB|        159|            9|        160|            8|         null|           []|Nathan Coulter-Ni...|               null|         null|           []|Adam Zampa, Devdu...|               null|     13|              7|   1 4 1 1 W 0|      Ishan Kishan|                     4|                         6|     Hardik Pandya|                     0|                         0|Washington Sundar|                       1|                         0|                      7|                         1|\n|2021| T20 League|Indian Premier Le...|1st Match|   T20 IPL|   35612|{'stadium': 'MA C...|   completed|Royal Challengers...|             null|Royal Challengers...|KN Anantha Padman...|Vengalil Narayana...|Chettithody Shams...|2021-04-09 19:30:...|        MI|       RCB|        159|            9|        160|            8|         null|           []|Nathan Coulter-Ni...|               null|         null|           []|Adam Zampa, Devdu...|               null|     14|             15|   1 2 6 4 1 1|     Hardik Pandya|                     2|                         2|      Ishan Kishan|                    17|                        10| Yuzvendra Chahal|                       4|                         0|                     41|                         0|\n|2021| T20 League|Indian Premier Le...|1st Match|   T20 IPL|   35612|{'stadium': 'MA C...|   completed|Royal Challengers...|             null|Royal Challengers...|KN Anantha Padman...|Vengalil Narayana...|Chettithody Shams...|2021-04-09 19:30:...|        MI|       RCB|        159|            9|        160|            8|         null|           []|Nathan Coulter-Ni...|               null|         null|           []|Adam Zampa, Devdu...|               null|     15|              8|   0 4 0 1 2 1|      Ishan Kishan|                    20|                        12|     Hardik Pandya|                     7|                         6| Daniel Christian|                       2|                         0|                     21|                         0|\n|2021| T20 League|Indian Premier Le...|1st Match|   T20 IPL|   35612|{'stadium': 'MA C...|   completed|Royal Challengers...|             null|Royal Challengers...|KN Anantha Padman...|Vengalil Narayana...|Chettithody Shams...|2021-04-09 19:30:...|        MI|       RCB|        159|            9|        160|            8|         null|           []|Nathan Coulter-Ni...|               null|         null|           []|Adam Zampa, Devdu...|               null|     16|              7|   0 1 2 4 0 W|     Hardik Pandya|                    13|                        10|      Ishan Kishan|                    21|                        14|    Harshal Patel|                       2|                         0|                     22|                         1|\n|2021| T20 League|Indian Premier Le...|1st Match|   T20 IPL|   35612|{'stadium': 'MA C...|   completed|Royal Challengers...|             null|Royal Challengers...|KN Anantha Padman...|Vengalil Narayana...|Chettithody Shams...|2021-04-09 19:30:...|        MI|       RCB|        159|            9|        160|            8|         null|           []|Nathan Coulter-Ni...|               null|         null|           []|Adam Zampa, Devdu...|               null|     17|              7|Wd 4 1 0 0 1 0|      Ishan Kishan|                    26|                        17|    Kieron Pollard|                     1|                         3|   Mohammed Siraj|                       4|                         0|                     22|                         0|\n|2021| T20 League|Indian Premier Le...|1st Match|   T20 IPL|   35612|{'stadium': 'MA C...|   completed|Royal Challengers...|             null|Royal Challengers...|KN Anantha Padman...|Vengalil Narayana...|Chettithody Shams...|2021-04-09 19:30:...|        MI|       RCB|        159|            9|        160|            8|         null|           []|Nathan Coulter-Ni...|               null|         null|           []|Adam Zampa, Devdu...|               null|     18|              4|   0 1 2 W 0 1|     Krunal Pandya|                     1|                         2|    Kieron Pollard|                     2|                         5|    Harshal Patel|                       3|                         0|                     26|                         2|\n|2021| T20 League|Indian Premier Le...|1st Match|   T20 IPL|   35612|{'stadium': 'MA C...|   completed|Royal Challengers...|             null|Royal Challengers...|KN Anantha Padman...|Vengalil Narayana...|Chettithody Shams...|2021-04-09 19:30:...|        MI|       RCB|        159|            9|        160|            8|         null|           []|Nathan Coulter-Ni...|               null|         null|           []|Adam Zampa, Devdu...|               null|     19|             12|1 1 N4 0 1 4 0|    Kieron Pollard|                     7|                         8|     Krunal Pandya|                     7|                         6|    Kyle Jamieson|                       4|                         0|                     27|                         1|\n|2021| T20 League|Indian Premier Le...|1st Match|   T20 IPL|   35612|{'stadium': 'MA C...|   completed|Royal Challengers...|             null|Royal Challengers...|KN Anantha Padman...|Vengalil Narayana...|Chettithody Shams...|2021-04-09 19:30:...|        MI|       RCB|        159|            9|        160|            8|         null|           []|Nathan Coulter-Ni...|               null|         null|           []|Adam Zampa, Devdu...|               null|     20|              1|  W W 0 W 0 W1|    Jasprit Bumrah|                     1|                         2|      Rahul Chahar|                     0|                         0|    Harshal Patel|                       4|                         0|                     27|                         5|\n+----+-----------+--------------------+---------+----------+--------+--------------------+------------+--------------------+-----------------+--------------------+--------------------+--------------------+--------------------+--------------------+----------+----------+-----------+-------------+-----------+-------------+-------------+-------------+--------------------+-------------------+-------------+-------------+--------------------+-------------------+-------+---------------+--------------+------------------+----------------------+--------------------------+------------------+----------------------+--------------------------+-----------------+------------------------+--------------------------+-----------------------+--------------------------+\nonly showing top 20 rows\n\n"
     ]
    }
   ],
   "source": [
    "commentary_df1 = spark.read.csv(\"dbfs:/FileStore/tables/ipl_over_data.csv\", header=True, inferSchema=True)\n",
    "commentary_df1.show()\n"
   ]
  },
  {
   "cell_type": "code",
   "execution_count": 0,
   "metadata": {
    "application/vnd.databricks.v1+cell": {
     "cellMetadata": {
      "byteLimit": 2048000,
      "rowLimit": 10000
     },
     "inputWidgets": {},
     "nuid": "8d44dded-fc5b-4f73-b753-042db081674e",
     "showTitle": false,
     "tableResultSettingsMap": {},
     "title": ""
    }
   },
   "outputs": [],
   "source": [
    "commentary_df.createOrReplaceTempView(\"commentary\")"
   ]
  },
  {
   "cell_type": "code",
   "execution_count": 0,
   "metadata": {
    "application/vnd.databricks.v1+cell": {
     "cellMetadata": {
      "byteLimit": 2048000,
      "implicitDf": true,
      "rowLimit": 10000
     },
     "inputWidgets": {},
     "nuid": "9a73d4d0-2784-4cec-a1b7-5d0dfd3ac008",
     "showTitle": false,
     "tableResultSettingsMap": {},
     "title": ""
    }
   },
   "outputs": [
    {
     "output_type": "stream",
     "name": "stdout",
     "output_type": "stream",
     "text": [
      "+--------------------+---------+\n|                year|num_teams|\n+--------------------+---------+\n|                2020|        8|\n|Binny st Karthik ...|        0|\n|                2019|        8|\n|                2017|        8|\n|                2018|        8|\n|                2022|       10|\n|Best: 3/7 vs RR M...|        0|\n|                2025|       10|\n|                2023|       10|\n|. Some real confu...|        0|\n|                2021|        9|\n|                2024|       10|\n|Rashid Khan's mos...|        0|\n+--------------------+---------+\n\n"
     ]
    }
   ],
   "source": [
    "spark.sql(\"\"\"\n",
    "    SELECT year, COUNT(DISTINCT team) AS num_teams\n",
    "    FROM (\n",
    "        SELECT year, team1_name AS team FROM commentary\n",
    "        UNION\n",
    "        SELECT year, team2_name AS team FROM commentary\n",
    "    )\n",
    "    GROUP BY year\n",
    "\"\"\").show()\n"
   ]
  },
  {
   "cell_type": "code",
   "execution_count": 0,
   "metadata": {
    "application/vnd.databricks.v1+cell": {
     "cellMetadata": {
      "byteLimit": 2048000,
      "rowLimit": 10000
     },
     "inputWidgets": {},
     "nuid": "be4f460e-5f98-4706-8717-596a01a720af",
     "showTitle": false,
     "tableResultSettingsMap": {},
     "title": ""
    }
   },
   "outputs": [
    {
     "output_type": "stream",
     "name": "stdout",
     "output_type": "stream",
     "text": [
      "+--------------------+------------------+\n|                year|avg_ball_per_match|\n+--------------------+------------------+\n|                2021| 61.97898012100259|\n|                2022|61.521382313532825|\n|Rashid Khan's mos...|              null|\n|Best: 3/7 vs RR M...|              null|\n|                2023|  61.6668889259321|\n|. Some real confu...|              null|\n|                2024| 61.52711236933798|\n|                2017| 60.04336808572256|\n|                2025|61.603084832904884|\n|                2018|60.453618954884774|\n|Binny st Karthik ...|              null|\n|                2019| 61.25603147980906|\n|                2020| 61.28035837353549|\n+--------------------+------------------+\n\n"
     ]
    }
   ],
   "source": [
    "spark.sql(\"\"\"\n",
    "    SELECT year, AVG(ball_no) AS avg_ball_per_match\n",
    "    FROM commentary\n",
    "    GROUP BY year\n",
    "\"\"\").show()"
   ]
  },
  {
   "cell_type": "code",
   "execution_count": 0,
   "metadata": {
    "application/vnd.databricks.v1+cell": {
     "cellMetadata": {
      "byteLimit": 2048000,
      "rowLimit": 10000
     },
     "inputWidgets": {},
     "nuid": "ae5ea377-69a3-48a4-b850-b180075beb1b",
     "showTitle": false,
     "tableResultSettingsMap": {},
     "title": ""
    }
   },
   "outputs": [
    {
     "output_type": "stream",
     "name": "stdout",
     "output_type": "stream",
     "text": [
      "+----+--------------------+--------+\n|year|                team|num_wins|\n+----+--------------------+--------+\n|2017|      Mumbai Indians|    2625|\n|2017|Rising Pune Super...|    2346|\n|2017|Kolkata Knight Ri...|    1963|\n|2017| Sunrisers Hyderabad|    1914|\n|2017|     Kings XI Punjab|    1604|\n|2017|    Delhi Daredevils|    1440|\n|2017|       Gujarat Lions|     924|\n|2017|Royal Challengers...|     746|\n|2017|Match tied ( Mumb...|     250|\n|2018|Kolkata Knight Ri...|    3269|\n|2018| Chennai Super Kings|    2697|\n|2018| Sunrisers Hyderabad|    2395|\n|2018|    Rajasthan Royals|    1621|\n|2018|      Mumbai Indians|    1470|\n|2018|     Kings XI Punjab|    1425|\n|2018|Royal Challengers...|    1359|\n|2018|    Delhi Daredevils|    1169|\n|2019| Chennai Super Kings|    3643|\n|2019|      Mumbai Indians|    2420|\n|2019|      Delhi Capitals|    2177|\n+----+--------------------+--------+\nonly showing top 20 rows\n\n"
     ]
    }
   ],
   "source": [
    "spark.sql(\"\"\"\n",
    "    SELECT year, match_winning_team AS team, COUNT(*) AS num_wins\n",
    "    FROM commentary\n",
    "    WHERE match_winning_team IS NOT NULL\n",
    "    GROUP BY year, match_winning_team\n",
    "    ORDER BY year, num_wins DESC\n",
    "\"\"\").show()"
   ]
  }
 ],
 "metadata": {
  "application/vnd.databricks.v1+notebook": {
   "computePreferences": null,
   "dashboards": [],
   "environmentMetadata": {
    "base_environment": "",
    "environment_version": "1"
   },
   "inputWidgetPreferences": null,
   "language": "python",
   "notebookMetadata": {
    "mostRecentlyExecutedCommandWithImplicitDF": {
     "commandId": -1,
     "dataframes": [
      "_sqldf"
     ]
    },
    "pythonIndentUnit": 4
   },
   "notebookName": "Task_5(18)",
   "widgets": {}
  }
 },
 "nbformat": 4,
 "nbformat_minor": 0
}