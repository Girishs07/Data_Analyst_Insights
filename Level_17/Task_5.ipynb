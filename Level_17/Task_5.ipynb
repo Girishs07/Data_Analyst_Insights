{
 "cells": [
  {
   "cell_type": "code",
   "execution_count": 0,
   "metadata": {
    "application/vnd.databricks.v1+cell": {
     "cellMetadata": {
      "byteLimit": 2048000,
      "rowLimit": 10000
     },
     "inputWidgets": {},
     "nuid": "793d98b5-da79-427f-a949-8085234ace93",
     "showTitle": false,
     "tableResultSettingsMap": {},
     "title": ""
    }
   },
   "outputs": [],
   "source": [
    "from pyspark.sql import SparkSession\n",
    "from pyspark.sql.functions import col, regexp_extract\n",
    "from pyspark.sql.functions import explode, split\n"
   ]
  },
  {
   "cell_type": "code",
   "execution_count": 0,
   "metadata": {
    "application/vnd.databricks.v1+cell": {
     "cellMetadata": {
      "byteLimit": 2048000,
      "rowLimit": 10000
     },
     "inputWidgets": {},
     "nuid": "a44e93e9-1edf-4850-bd12-bb20e7a3c5a1",
     "showTitle": false,
     "tableResultSettingsMap": {},
     "title": ""
    }
   },
   "outputs": [
    {
     "output_type": "stream",
     "name": "stdout",
     "output_type": "stream",
     "text": [
      "+----+-----------+--------------------+---------+----------+--------+--------------------+------------+--------------------+-----------------+--------------------+--------------------+--------------------+--------------------+--------------------+----------+----------+-----------+-------------+-----------+-------------+-------------+-------------+--------------------+-------------------+-------------+-------------+--------------------+-------------------+-------+-------+--------------------+\n|year|series_type|         series_name| match_no|match_type|match_id|         match_venue|match_status|  match_winning_team|match_tie_breaker|          match_toss|             umpires|       match_referee|       third_umpires|      match_datetime|team1_name|team2_name|team1_score|team1_wickets|team2_score|team2_wickets|team1_captain|team1_players|         team1_bench|team1_support_staff|team2_captain|team2_players|         team2_bench|team2_support_staff|ball_no|over_no|     ball_commentary|\n+----+-----------+--------------------+---------+----------+--------+--------------------+------------+--------------------+-----------------+--------------------+--------------------+--------------------+--------------------+--------------------+----------+----------+-----------+-------------+-----------+-------------+-------------+-------------+--------------------+-------------------+-------------+-------------+--------------------+-------------------+-------+-------+--------------------+\n|2021| T20 League|Indian Premier Le...|1st Match|   T20 IPL|   35612|{'stadium': 'MA C...|   completed|Royal Challengers...|             null|Royal Challengers...|KN Anantha Padman...|Vengalil Narayana...|Chettithody Shams...|2021-04-09 19:30:...|        MI|       RCB|        159|            9|        160|            8|         null|           []|Nathan Coulter-Ni...|               null|         null|           []|Adam Zampa, Devdu...|               null|      1|    0.1|Siraj to Rohit, 2...|\n|2021| T20 League|Indian Premier Le...|1st Match|   T20 IPL|   35612|{'stadium': 'MA C...|   completed|Royal Challengers...|             null|Royal Challengers...|KN Anantha Padman...|Vengalil Narayana...|Chettithody Shams...|2021-04-09 19:30:...|        MI|       RCB|        159|            9|        160|            8|         null|           []|Nathan Coulter-Ni...|               null|         null|           []|Adam Zampa, Devdu...|               null|      2|    0.2|Siraj to Rohit, n...|\n|2021| T20 League|Indian Premier Le...|1st Match|   T20 IPL|   35612|{'stadium': 'MA C...|   completed|Royal Challengers...|             null|Royal Challengers...|KN Anantha Padman...|Vengalil Narayana...|Chettithody Shams...|2021-04-09 19:30:...|        MI|       RCB|        159|            9|        160|            8|         null|           []|Nathan Coulter-Ni...|               null|         null|           []|Adam Zampa, Devdu...|               null|      3|    0.3|Siraj to Rohit, n...|\n|2021| T20 League|Indian Premier Le...|1st Match|   T20 IPL|   35612|{'stadium': 'MA C...|   completed|Royal Challengers...|             null|Royal Challengers...|KN Anantha Padman...|Vengalil Narayana...|Chettithody Shams...|2021-04-09 19:30:...|        MI|       RCB|        159|            9|        160|            8|         null|           []|Nathan Coulter-Ni...|               null|         null|           []|Adam Zampa, Devdu...|               null|      4|    0.4|Siraj to Rohit, 2...|\n|2021| T20 League|Indian Premier Le...|1st Match|   T20 IPL|   35612|{'stadium': 'MA C...|   completed|Royal Challengers...|             null|Royal Challengers...|KN Anantha Padman...|Vengalil Narayana...|Chettithody Shams...|2021-04-09 19:30:...|        MI|       RCB|        159|            9|        160|            8|         null|           []|Nathan Coulter-Ni...|               null|         null|           []|Adam Zampa, Devdu...|               null|      5|    0.5|Siraj to Rohit, n...|\n|2021| T20 League|Indian Premier Le...|1st Match|   T20 IPL|   35612|{'stadium': 'MA C...|   completed|Royal Challengers...|             null|Royal Challengers...|KN Anantha Padman...|Vengalil Narayana...|Chettithody Shams...|2021-04-09 19:30:...|        MI|       RCB|        159|            9|        160|            8|         null|           []|Nathan Coulter-Ni...|               null|         null|           []|Adam Zampa, Devdu...|               null|      6|    0.6|Siraj to Rohit, 1...|\n|2021| T20 League|Indian Premier Le...|1st Match|   T20 IPL|   35612|{'stadium': 'MA C...|   completed|Royal Challengers...|             null|Royal Challengers...|KN Anantha Padman...|Vengalil Narayana...|Chettithody Shams...|2021-04-09 19:30:...|        MI|       RCB|        159|            9|        160|            8|         null|           []|Nathan Coulter-Ni...|               null|         null|           []|Adam Zampa, Devdu...|               null|      7|    1.1|Jamieson to Rohit...|\n|2021| T20 League|Indian Premier Le...|1st Match|   T20 IPL|   35612|{'stadium': 'MA C...|   completed|Royal Challengers...|             null|Royal Challengers...|KN Anantha Padman...|Vengalil Narayana...|Chettithody Shams...|2021-04-09 19:30:...|        MI|       RCB|        159|            9|        160|            8|         null|           []|Nathan Coulter-Ni...|               null|         null|           []|Adam Zampa, Devdu...|               null|      8|    1.2|Jamieson to Chris...|\n|2021| T20 League|Indian Premier Le...|1st Match|   T20 IPL|   35612|{'stadium': 'MA C...|   completed|Royal Challengers...|             null|Royal Challengers...|KN Anantha Padman...|Vengalil Narayana...|Chettithody Shams...|2021-04-09 19:30:...|        MI|       RCB|        159|            9|        160|            8|         null|           []|Nathan Coulter-Ni...|               null|         null|           []|Adam Zampa, Devdu...|               null|      9|    1.3|Jamieson to Chris...|\n|2021| T20 League|Indian Premier Le...|1st Match|   T20 IPL|   35612|{'stadium': 'MA C...|   completed|Royal Challengers...|             null|Royal Challengers...|KN Anantha Padman...|Vengalil Narayana...|Chettithody Shams...|2021-04-09 19:30:...|        MI|       RCB|        159|            9|        160|            8|         null|           []|Nathan Coulter-Ni...|               null|         null|           []|Adam Zampa, Devdu...|               null|     10|    1.4|Jamieson to Chris...|\n|2021| T20 League|Indian Premier Le...|1st Match|   T20 IPL|   35612|{'stadium': 'MA C...|   completed|Royal Challengers...|             null|Royal Challengers...|KN Anantha Padman...|Vengalil Narayana...|Chettithody Shams...|2021-04-09 19:30:...|        MI|       RCB|        159|            9|        160|            8|         null|           []|Nathan Coulter-Ni...|               null|         null|           []|Adam Zampa, Devdu...|               null|     11|    1.5|Jamieson to Chris...|\n|2021| T20 League|Indian Premier Le...|1st Match|   T20 IPL|   35612|{'stadium': 'MA C...|   completed|Royal Challengers...|             null|Royal Challengers...|KN Anantha Padman...|Vengalil Narayana...|Chettithody Shams...|2021-04-09 19:30:...|        MI|       RCB|        159|            9|        160|            8|         null|           []|Nathan Coulter-Ni...|               null|         null|           []|Adam Zampa, Devdu...|               null|     12|    1.6|Jamieson to Chris...|\n|2021| T20 League|Indian Premier Le...|1st Match|   T20 IPL|   35612|{'stadium': 'MA C...|   completed|Royal Challengers...|             null|Royal Challengers...|KN Anantha Padman...|Vengalil Narayana...|Chettithody Shams...|2021-04-09 19:30:...|        MI|       RCB|        159|            9|        160|            8|         null|           []|Nathan Coulter-Ni...|               null|         null|           []|Adam Zampa, Devdu...|               null|     13|    2.1|Siraj to Rohit, n...|\n|2021| T20 League|Indian Premier Le...|1st Match|   T20 IPL|   35612|{'stadium': 'MA C...|   completed|Royal Challengers...|             null|Royal Challengers...|KN Anantha Padman...|Vengalil Narayana...|Chettithody Shams...|2021-04-09 19:30:...|        MI|       RCB|        159|            9|        160|            8|         null|           []|Nathan Coulter-Ni...|               null|         null|           []|Adam Zampa, Devdu...|               null|     14|    2.2|Siraj to Rohit, n...|\n|2021| T20 League|Indian Premier Le...|1st Match|   T20 IPL|   35612|{'stadium': 'MA C...|   completed|Royal Challengers...|             null|Royal Challengers...|KN Anantha Padman...|Vengalil Narayana...|Chettithody Shams...|2021-04-09 19:30:...|        MI|       RCB|        159|            9|        160|            8|         null|           []|Nathan Coulter-Ni...|               null|         null|           []|Adam Zampa, Devdu...|               null|     15|    2.3|Siraj to Rohit, n...|\n|2021| T20 League|Indian Premier Le...|1st Match|   T20 IPL|   35612|{'stadium': 'MA C...|   completed|Royal Challengers...|             null|Royal Challengers...|KN Anantha Padman...|Vengalil Narayana...|Chettithody Shams...|2021-04-09 19:30:...|        MI|       RCB|        159|            9|        160|            8|         null|           []|Nathan Coulter-Ni...|               null|         null|           []|Adam Zampa, Devdu...|               null|     16|    2.4|Siraj to Rohit, n...|\n|2021| T20 League|Indian Premier Le...|1st Match|   T20 IPL|   35612|{'stadium': 'MA C...|   completed|Royal Challengers...|             null|Royal Challengers...|KN Anantha Padman...|Vengalil Narayana...|Chettithody Shams...|2021-04-09 19:30:...|        MI|       RCB|        159|            9|        160|            8|         null|           []|Nathan Coulter-Ni...|               null|         null|           []|Adam Zampa, Devdu...|               null|     17|    2.5|Siraj to Rohit, F...|\n|2021| T20 League|Indian Premier Le...|1st Match|   T20 IPL|   35612|{'stadium': 'MA C...|   completed|Royal Challengers...|             null|Royal Challengers...|KN Anantha Padman...|Vengalil Narayana...|Chettithody Shams...|2021-04-09 19:30:...|        MI|       RCB|        159|            9|        160|            8|         null|           []|Nathan Coulter-Ni...|               null|         null|           []|Adam Zampa, Devdu...|               null|     18|    2.6|Siraj to Rohit, 2...|\n|2021| T20 League|Indian Premier Le...|1st Match|   T20 IPL|   35612|{'stadium': 'MA C...|   completed|Royal Challengers...|             null|Royal Challengers...|KN Anantha Padman...|Vengalil Narayana...|Chettithody Shams...|2021-04-09 19:30:...|        MI|       RCB|        159|            9|        160|            8|         null|           []|Nathan Coulter-Ni...|               null|         null|           []|Adam Zampa, Devdu...|               null|     19|    3.1|Chahal to Chris L...|\n|2021| T20 League|Indian Premier Le...|1st Match|   T20 IPL|   35612|{'stadium': 'MA C...|   completed|Royal Challengers...|             null|Royal Challengers...|KN Anantha Padman...|Vengalil Narayana...|Chettithody Shams...|2021-04-09 19:30:...|        MI|       RCB|        159|            9|        160|            8|         null|           []|Nathan Coulter-Ni...|               null|         null|           []|Adam Zampa, Devdu...|               null|     20|    3.2|Chahal to Chris L...|\n+----+-----------+--------------------+---------+----------+--------+--------------------+------------+--------------------+-----------------+--------------------+--------------------+--------------------+--------------------+--------------------+----------+----------+-----------+-------------+-----------+-------------+-------------+-------------+--------------------+-------------------+-------------+-------------+--------------------+-------------------+-------+-------+--------------------+\nonly showing top 20 rows\n\n"
     ]
    }
   ],
   "source": [
    "df = spark.read.csv(\"dbfs:/FileStore/shared_uploads/girish792004@gmail.com/ipl_commentary_data-1.csv\", header=True, inferSchema=True)\n",
    "df.show()\n"
   ]
  },
  {
   "cell_type": "code",
   "execution_count": 0,
   "metadata": {
    "application/vnd.databricks.v1+cell": {
     "cellMetadata": {
      "byteLimit": 2048000,
      "rowLimit": 10000
     },
     "inputWidgets": {},
     "nuid": "5dbb04ad-3807-4a32-b9cd-46b2bd32ac58",
     "showTitle": false,
     "tableResultSettingsMap": {},
     "title": ""
    }
   },
   "outputs": [
    {
     "output_type": "stream",
     "name": "stdout",
     "output_type": "stream",
     "text": [
      "Out[2]: [FileInfo(path='dbfs:/FileStore/shared_uploads/girish792004@gmail.com/ipl_commentary_data-1.csv', name='ipl_commentary_data-1.csv', size=147312850, modificationTime=1745389335000),\n FileInfo(path='dbfs:/FileStore/shared_uploads/girish792004@gmail.com/ipl_commentary_data.csv', name='ipl_commentary_data.csv', size=147312850, modificationTime=1745295584000),\n FileInfo(path='dbfs:/FileStore/shared_uploads/girish792004@gmail.com/ipl_over_data-1.csv', name='ipl_over_data-1.csv', size=20877706, modificationTime=1745384072000),\n FileInfo(path='dbfs:/FileStore/shared_uploads/girish792004@gmail.com/ipl_over_data-2.csv', name='ipl_over_data-2.csv', size=20877706, modificationTime=1745384105000),\n FileInfo(path='dbfs:/FileStore/shared_uploads/girish792004@gmail.com/ipl_over_data-3.csv', name='ipl_over_data-3.csv', size=20877706, modificationTime=1745389224000),\n FileInfo(path='dbfs:/FileStore/shared_uploads/girish792004@gmail.com/ipl_over_data.csv', name='ipl_over_data.csv', size=20877706, modificationTime=1745295431000),\n FileInfo(path='dbfs:/FileStore/shared_uploads/girish792004@gmail.com/ipl_players_href.csv', name='ipl_players_href.csv', size=53109, modificationTime=1745295440000)]"
     ]
    }
   ],
   "source": [
    "dbutils.fs.ls(\"dbfs:/FileStore/shared_uploads/girish792004@gmail.com/\")\n"
   ]
  },
  {
   "cell_type": "code",
   "execution_count": 0,
   "metadata": {
    "application/vnd.databricks.v1+cell": {
     "cellMetadata": {
      "byteLimit": 2048000,
      "rowLimit": 10000
     },
     "inputWidgets": {},
     "nuid": "b25a20fb-eed9-4bd0-8435-78524e492fa2",
     "showTitle": false,
     "tableResultSettingsMap": {},
     "title": ""
    }
   },
   "outputs": [
    {
     "output_type": "display_data",
     "data": {
      "text/html": [
       "<style scoped>\n",
       "  .table-result-container {\n",
       "    max-height: 300px;\n",
       "    overflow: auto;\n",
       "  }\n",
       "  table, th, td {\n",
       "    border: 1px solid black;\n",
       "    border-collapse: collapse;\n",
       "  }\n",
       "  th, td {\n",
       "    padding: 5px;\n",
       "  }\n",
       "  th {\n",
       "    text-align: left;\n",
       "  }\n",
       "</style><div class='table-result-container'><table class='table-result'><thead style='background-color: white'><tr><th>year</th><th>number_of_teams</th></tr></thead><tbody><tr><td>2020</td><td>8</td></tr><tr><td>2019</td><td>8</td></tr><tr><td>2017</td><td>8</td></tr><tr><td>2018</td><td>8</td></tr><tr><td>2022</td><td>10</td></tr><tr><td>2025</td><td>10</td></tr><tr><td>2023</td><td>10</td></tr><tr><td>2021</td><td>9</td></tr><tr><td>2024</td><td>10</td></tr></tbody></table></div>"
      ]
     },
     "metadata": {
      "application/vnd.databricks.v1+output": {
       "addedWidgets": {},
       "aggData": [],
       "aggError": "",
       "aggOverflow": false,
       "aggSchema": [],
       "aggSeriesLimitReached": false,
       "aggType": "",
       "arguments": {},
       "columnCustomDisplayInfos": {},
       "data": [
        [
         "2020",
         8
        ],
        [
         "2019",
         8
        ],
        [
         "2017",
         8
        ],
        [
         "2018",
         8
        ],
        [
         "2022",
         10
        ],
        [
         "2025",
         10
        ],
        [
         "2023",
         10
        ],
        [
         "2021",
         9
        ],
        [
         "2024",
         10
        ]
       ],
       "datasetInfos": [],
       "dbfsResultPath": null,
       "isJsonSchema": true,
       "metadata": {},
       "overflow": false,
       "plotOptions": {
        "customPlotOptions": {},
        "displayType": "table",
        "pivotAggregation": null,
        "pivotColumns": null,
        "xColumns": null,
        "yColumns": null
       },
       "removedWidgets": [],
       "schema": [
        {
         "metadata": "{}",
         "name": "year",
         "type": "\"string\""
        },
        {
         "metadata": "{}",
         "name": "number_of_teams",
         "type": "\"long\""
        }
       ],
       "type": "table"
      }
     },
     "output_type": "display_data"
    }
   ],
   "source": [
    "from pyspark.sql.functions import array, explode, col, trim\n",
    "\n",
    "teams_df = df.select(\"year\", trim(\"team1_name\").alias(\"team1\"), trim(\"team2_name\").alias(\"team2\")) \\\n",
    "    .selectExpr(\"year\", \"team1\", \"team2\") \\\n",
    "    .withColumn(\"team\", explode(array(\"team1\", \"team2\"))) \\\n",
    "    .drop(\"team1\", \"team2\") \\\n",
    "    .dropna(subset=[\"team\"]) \\\n",
    "    .distinct() \\\n",
    "    .groupBy(\"year\") \\\n",
    "    .count() \\\n",
    "    .withColumnRenamed(\"count\", \"number_of_teams\")\n",
    "\n",
    "display(teams_df)\n"
   ]
  },
  {
   "cell_type": "code",
   "execution_count": 0,
   "metadata": {
    "application/vnd.databricks.v1+cell": {
     "cellMetadata": {
      "byteLimit": 2048000,
      "rowLimit": 10000
     },
     "inputWidgets": {},
     "nuid": "82cab9cb-d69f-47ff-be5c-3085c234efe7",
     "showTitle": false,
     "tableResultSettingsMap": {},
     "title": ""
    }
   },
   "outputs": [
    {
     "output_type": "display_data",
     "data": {
      "text/html": [
       "<style scoped>\n",
       "  .table-result-container {\n",
       "    max-height: 300px;\n",
       "    overflow: auto;\n",
       "  }\n",
       "  table, th, td {\n",
       "    border: 1px solid black;\n",
       "    border-collapse: collapse;\n",
       "  }\n",
       "  th, td {\n",
       "    padding: 5px;\n",
       "  }\n",
       "  th {\n",
       "    text-align: left;\n",
       "  }\n",
       "</style><div class='table-result-container'><table class='table-result'><thead style='background-color: white'><tr><th>match_status</th><th>count</th></tr></thead><tbody><tr><td>completed</td><td>142630</td></tr><tr><td>null</td><td>9</td></tr><tr><td>tied</td><td>1975</td></tr></tbody></table></div>"
      ]
     },
     "metadata": {
      "application/vnd.databricks.v1+output": {
       "addedWidgets": {},
       "aggData": [],
       "aggError": "",
       "aggOverflow": false,
       "aggSchema": [],
       "aggSeriesLimitReached": false,
       "aggType": "",
       "arguments": {},
       "columnCustomDisplayInfos": {},
       "data": [
        [
         "completed",
         142630
        ],
        [
         null,
         9
        ],
        [
         "tied",
         1975
        ]
       ],
       "datasetInfos": [],
       "dbfsResultPath": null,
       "isJsonSchema": true,
       "metadata": {},
       "overflow": false,
       "plotOptions": {
        "customPlotOptions": {},
        "displayType": "table",
        "pivotAggregation": null,
        "pivotColumns": null,
        "xColumns": null,
        "yColumns": null
       },
       "removedWidgets": [],
       "schema": [
        {
         "metadata": "{}",
         "name": "match_status",
         "type": "\"string\""
        },
        {
         "metadata": "{}",
         "name": "count",
         "type": "\"long\""
        }
       ],
       "type": "table"
      }
     },
     "output_type": "display_data"
    }
   ],
   "source": [
    "match_status_df = df.groupBy(\"match_status\").count()\n",
    "display(match_status_df)\n"
   ]
  },
  {
   "cell_type": "code",
   "execution_count": 0,
   "metadata": {
    "application/vnd.databricks.v1+cell": {
     "cellMetadata": {
      "byteLimit": 2048000,
      "rowLimit": 10000
     },
     "inputWidgets": {},
     "nuid": "b04ba2b0-c8ba-434f-bc90-790de5ee6a75",
     "showTitle": false,
     "tableResultSettingsMap": {},
     "title": ""
    }
   },
   "outputs": [
    {
     "output_type": "display_data",
     "data": {
      "text/html": [
       "<style scoped>\n",
       "  .table-result-container {\n",
       "    max-height: 300px;\n",
       "    overflow: auto;\n",
       "  }\n",
       "  table, th, td {\n",
       "    border: 1px solid black;\n",
       "    border-collapse: collapse;\n",
       "  }\n",
       "  th, td {\n",
       "    padding: 5px;\n",
       "  }\n",
       "  th {\n",
       "    text-align: left;\n",
       "  }\n",
       "</style><div class='table-result-container'><table class='table-result'><thead style='background-color: white'><tr><th>avg_balls_per_match</th></tr></thead><tbody><tr><td>124.40380952380953</td></tr></tbody></table></div>"
      ]
     },
     "metadata": {
      "application/vnd.databricks.v1+output": {
       "addedWidgets": {},
       "aggData": [],
       "aggError": "",
       "aggOverflow": false,
       "aggSchema": [],
       "aggSeriesLimitReached": false,
       "aggType": "",
       "arguments": {},
       "columnCustomDisplayInfos": {},
       "data": [
        [
         124.40380952380953
        ]
       ],
       "datasetInfos": [],
       "dbfsResultPath": null,
       "isJsonSchema": true,
       "metadata": {},
       "overflow": false,
       "plotOptions": {
        "customPlotOptions": {},
        "displayType": "table",
        "pivotAggregation": null,
        "pivotColumns": null,
        "xColumns": null,
        "yColumns": null
       },
       "removedWidgets": [],
       "schema": [
        {
         "metadata": "{}",
         "name": "avg_balls_per_match",
         "type": "\"double\""
        }
       ],
       "type": "table"
      }
     },
     "output_type": "display_data"
    }
   ],
   "source": [
    "from pyspark.sql.functions import avg, countDistinct\n",
    "\n",
    "avg_balls = df.groupBy(\"match_id\").agg(countDistinct(\"ball_no\").alias(\"balls_per_match\"))\n",
    "avg_result = avg_balls.select(avg(\"balls_per_match\").alias(\"avg_balls_per_match\"))\n",
    "\n",
    "display(avg_result)\n"
   ]
  },
  {
   "cell_type": "code",
   "execution_count": 0,
   "metadata": {
    "application/vnd.databricks.v1+cell": {
     "cellMetadata": {
      "byteLimit": 2048000,
      "rowLimit": 10000
     },
     "inputWidgets": {},
     "nuid": "7c14908c-17b1-462c-b66f-516d7131988c",
     "showTitle": false,
     "tableResultSettingsMap": {},
     "title": ""
    }
   },
   "outputs": [
    {
     "output_type": "display_data",
     "data": {
      "text/html": [
       "<style scoped>\n",
       "  .table-result-container {\n",
       "    max-height: 300px;\n",
       "    overflow: auto;\n",
       "  }\n",
       "  table, th, td {\n",
       "    border: 1px solid black;\n",
       "    border-collapse: collapse;\n",
       "  }\n",
       "  th, td {\n",
       "    padding: 5px;\n",
       "  }\n",
       "  th {\n",
       "    text-align: left;\n",
       "  }\n",
       "</style><div class='table-result-container'><table class='table-result'><thead style='background-color: white'><tr><th>year</th><th>match_winning_team</th><th>matches_won</th></tr></thead><tbody><tr><td>. Some real confused umpiring here. The same line a couple of overs go wasn't a wide. Samson's not impressed; and he's right in the umpire's ear\"</td><td>null</td><td>1</td></tr><tr><td>2017</td><td>Mumbai Indians</td><td>2625</td></tr><tr><td>2017</td><td>Rising Pune Supergiant</td><td>2346</td></tr><tr><td>2017</td><td>Kolkata Knight Riders</td><td>1963</td></tr><tr><td>2017</td><td>Sunrisers Hyderabad</td><td>1914</td></tr><tr><td>2017</td><td>Kings XI Punjab</td><td>1604</td></tr><tr><td>2017</td><td>Delhi Daredevils</td><td>1440</td></tr><tr><td>2017</td><td>Gujarat Lions</td><td>924</td></tr><tr><td>2017</td><td>Royal Challengers Bangalore</td><td>746</td></tr><tr><td>2017</td><td>Match tied ( Mumbai Indians</td><td>250</td></tr><tr><td>2018</td><td>Kolkata Knight Riders</td><td>3269</td></tr><tr><td>2018</td><td>Chennai Super Kings</td><td>2697</td></tr><tr><td>2018</td><td>Sunrisers Hyderabad</td><td>2395</td></tr><tr><td>2018</td><td>Rajasthan Royals</td><td>1621</td></tr><tr><td>2018</td><td>Mumbai Indians</td><td>1470</td></tr><tr><td>2018</td><td>Kings XI Punjab</td><td>1425</td></tr><tr><td>2018</td><td>Royal Challengers Bangalore</td><td>1359</td></tr><tr><td>2018</td><td>Delhi Daredevils</td><td>1169</td></tr><tr><td>2019</td><td>Chennai Super Kings</td><td>3643</td></tr><tr><td>2019</td><td>Mumbai Indians</td><td>2420</td></tr><tr><td>2019</td><td>Delhi Capitals</td><td>2177</td></tr><tr><td>2019</td><td>Kings XI Punjab</td><td>1470</td></tr><tr><td>2019</td><td>Kolkata Knight Riders</td><td>1430</td></tr><tr><td>2019</td><td>Sunrisers Hyderabad</td><td>1425</td></tr><tr><td>2019</td><td>Royal Challengers Bangalore</td><td>1235</td></tr><tr><td>2019</td><td>Rajasthan Royals</td><td>1212</td></tr><tr><td>2019</td><td>Match tied (Delhi Capitals</td><td>246</td></tr><tr><td>2019</td><td>Match tied (Mumbai Indians</td><td>244</td></tr><tr><td>2020</td><td>Mumbai Indians</td><td>2600</td></tr><tr><td>2020</td><td>Delhi Capitals</td><td>1989</td></tr><tr><td>2020</td><td>Sunrisers Hyderabad</td><td>1895</td></tr><tr><td>2020</td><td>Kolkata Knight Riders</td><td>1471</td></tr><tr><td>2020</td><td>Rajasthan Royals</td><td>1453</td></tr><tr><td>2020</td><td>Royal Challengers Bangalore</td><td>1452</td></tr><tr><td>2020</td><td>Chennai Super Kings</td><td>1451</td></tr><tr><td>2020</td><td>Kings XI Punjab</td><td>1212</td></tr><tr><td>2020</td><td>Match tied (Delhi Capitals</td><td>250</td></tr><tr><td>2020</td><td>Match tied (Royal Challengers Bangalore</td><td>248</td></tr><tr><td>2020</td><td>Match tied and Super Over tied - (Kings XI Punjab</td><td>245</td></tr><tr><td>2020</td><td>Match tied (Kolkata Knight Riders</td><td>244</td></tr><tr><td>2021</td><td>Royal Challengers Bangalore</td><td>16717</td></tr><tr><td>2021</td><td>Chennai Super Kings</td><td>2699</td></tr><tr><td>2021</td><td>Kolkata Knight Riders</td><td>2298</td></tr><tr><td>2021</td><td>Delhi Capitals</td><td>2156</td></tr><tr><td>2021</td><td>Mumbai Indians</td><td>1647</td></tr><tr><td>2021</td><td>Punjab Kings</td><td>1432</td></tr><tr><td>2021</td><td>Rajasthan Royals</td><td>1233</td></tr><tr><td>2021</td><td>Sunrisers Hyderabad</td><td>724</td></tr><tr><td>2021</td><td>Match tied (Delhi Capitals</td><td>248</td></tr><tr><td>2022</td><td>Gujarat Titans</td><td>2920</td></tr><tr><td>2022</td><td>Rajasthan Royals</td><td>2506</td></tr><tr><td>2022</td><td>Lucknow Super Giants</td><td>2215</td></tr><tr><td>2022</td><td>Royal Challengers Bangalore</td><td>2209</td></tr><tr><td>2022</td><td>Punjab Kings</td><td>1710</td></tr><tr><td>2022</td><td>Delhi Capitals</td><td>1657</td></tr><tr><td>2022</td><td>Kolkata Knight Riders</td><td>1400</td></tr><tr><td>2022</td><td>Sunrisers Hyderabad</td><td>1366</td></tr><tr><td>2022</td><td>Chennai Super Kings</td><td>991</td></tr><tr><td>2022</td><td>Mumbai Indians</td><td>938</td></tr><tr><td>2023</td><td>Gujarat Titans</td><td>2642</td></tr><tr><td>2023</td><td>Chennai Super Kings</td><td>2449</td></tr><tr><td>2023</td><td>Mumbai Indians</td><td>2173</td></tr><tr><td>2023</td><td>Lucknow Super Giants</td><td>1980</td></tr><tr><td>2023</td><td>Rajasthan Royals</td><td>1947</td></tr><tr><td>2023</td><td>Royal Challengers Bangalore</td><td>1646</td></tr><tr><td>2023</td><td>Kolkata Knight Riders</td><td>1479</td></tr><tr><td>2023</td><td>Punjab Kings</td><td>1477</td></tr><tr><td>2023</td><td>Delhi Capitals</td><td>1218</td></tr><tr><td>2023</td><td>Sunrisers Hyderabad</td><td>986</td></tr><tr><td>2024</td><td>Kolkata Knight Riders</td><td>3767</td></tr><tr><td>2024</td><td>Rajasthan Royals</td><td>2202</td></tr><tr><td>2024</td><td>Sunrisers Hyderabad</td><td>2190</td></tr><tr><td>2024</td><td>Lucknow Super Giants</td><td>1737</td></tr><tr><td>2024</td><td>Chennai Super Kings</td><td>1718</td></tr><tr><td>2024</td><td>Delhi Capitals</td><td>1669</td></tr><tr><td>2024</td><td>Royal Challengers Bengaluru</td><td>1668</td></tr><tr><td>2024</td><td>Gujarat Titans</td><td>1231</td></tr><tr><td>2024</td><td>Punjab Kings</td><td>1220</td></tr><tr><td>2024</td><td>Mumbai Indians</td><td>966</td></tr><tr><td>2025</td><td>Royal Challengers Bengaluru</td><td>473</td></tr><tr><td>2025</td><td>Sunrisers Hyderabad</td><td>262</td></tr><tr><td>2025</td><td>Punjab Kings</td><td>254</td></tr><tr><td>2025</td><td>Delhi Capitals</td><td>246</td></tr><tr><td>2025</td><td>Chennai Super Kings</td><td>243</td></tr><tr><td>2025</td><td>Kolkata Knight Riders</td><td>234</td></tr><tr><td>2025</td><td>Lucknow Super Giants</td><td>233</td></tr><tr><td>Best: 3/7 vs RR Mumbai WS 202\"</td><td>null</td><td>1</td></tr><tr><td>Binny st Karthik b Kuldeep Yadav 1(4)\"</td><td>null</td><td>6</td></tr><tr><td>Rashid Khan's most expensive figures in five matches in IPL 2021</td><td>null</td><td>1</td></tr></tbody></table></div>"
      ]
     },
     "metadata": {
      "application/vnd.databricks.v1+output": {
       "addedWidgets": {},
       "aggData": [],
       "aggError": "",
       "aggOverflow": false,
       "aggSchema": [],
       "aggSeriesLimitReached": false,
       "aggType": "",
       "arguments": {},
       "columnCustomDisplayInfos": {},
       "data": [
        [
         ". Some real confused umpiring here. The same line a couple of overs go wasn't a wide. Samson's not impressed; and he's right in the umpire's ear\"",
         null,
         1
        ],
        [
         "2017",
         "Mumbai Indians",
         2625
        ],
        [
         "2017",
         "Rising Pune Supergiant",
         2346
        ],
        [
         "2017",
         "Kolkata Knight Riders",
         1963
        ],
        [
         "2017",
         "Sunrisers Hyderabad",
         1914
        ],
        [
         "2017",
         "Kings XI Punjab",
         1604
        ],
        [
         "2017",
         "Delhi Daredevils",
         1440
        ],
        [
         "2017",
         "Gujarat Lions",
         924
        ],
        [
         "2017",
         "Royal Challengers Bangalore",
         746
        ],
        [
         "2017",
         "Match tied ( Mumbai Indians",
         250
        ],
        [
         "2018",
         "Kolkata Knight Riders",
         3269
        ],
        [
         "2018",
         "Chennai Super Kings",
         2697
        ],
        [
         "2018",
         "Sunrisers Hyderabad",
         2395
        ],
        [
         "2018",
         "Rajasthan Royals",
         1621
        ],
        [
         "2018",
         "Mumbai Indians",
         1470
        ],
        [
         "2018",
         "Kings XI Punjab",
         1425
        ],
        [
         "2018",
         "Royal Challengers Bangalore",
         1359
        ],
        [
         "2018",
         "Delhi Daredevils",
         1169
        ],
        [
         "2019",
         "Chennai Super Kings",
         3643
        ],
        [
         "2019",
         "Mumbai Indians",
         2420
        ],
        [
         "2019",
         "Delhi Capitals",
         2177
        ],
        [
         "2019",
         "Kings XI Punjab",
         1470
        ],
        [
         "2019",
         "Kolkata Knight Riders",
         1430
        ],
        [
         "2019",
         "Sunrisers Hyderabad",
         1425
        ],
        [
         "2019",
         "Royal Challengers Bangalore",
         1235
        ],
        [
         "2019",
         "Rajasthan Royals",
         1212
        ],
        [
         "2019",
         "Match tied (Delhi Capitals",
         246
        ],
        [
         "2019",
         "Match tied (Mumbai Indians",
         244
        ],
        [
         "2020",
         "Mumbai Indians",
         2600
        ],
        [
         "2020",
         "Delhi Capitals",
         1989
        ],
        [
         "2020",
         "Sunrisers Hyderabad",
         1895
        ],
        [
         "2020",
         "Kolkata Knight Riders",
         1471
        ],
        [
         "2020",
         "Rajasthan Royals",
         1453
        ],
        [
         "2020",
         "Royal Challengers Bangalore",
         1452
        ],
        [
         "2020",
         "Chennai Super Kings",
         1451
        ],
        [
         "2020",
         "Kings XI Punjab",
         1212
        ],
        [
         "2020",
         "Match tied (Delhi Capitals",
         250
        ],
        [
         "2020",
         "Match tied (Royal Challengers Bangalore",
         248
        ],
        [
         "2020",
         "Match tied and Super Over tied - (Kings XI Punjab",
         245
        ],
        [
         "2020",
         "Match tied (Kolkata Knight Riders",
         244
        ],
        [
         "2021",
         "Royal Challengers Bangalore",
         16717
        ],
        [
         "2021",
         "Chennai Super Kings",
         2699
        ],
        [
         "2021",
         "Kolkata Knight Riders",
         2298
        ],
        [
         "2021",
         "Delhi Capitals",
         2156
        ],
        [
         "2021",
         "Mumbai Indians",
         1647
        ],
        [
         "2021",
         "Punjab Kings",
         1432
        ],
        [
         "2021",
         "Rajasthan Royals",
         1233
        ],
        [
         "2021",
         "Sunrisers Hyderabad",
         724
        ],
        [
         "2021",
         "Match tied (Delhi Capitals",
         248
        ],
        [
         "2022",
         "Gujarat Titans",
         2920
        ],
        [
         "2022",
         "Rajasthan Royals",
         2506
        ],
        [
         "2022",
         "Lucknow Super Giants",
         2215
        ],
        [
         "2022",
         "Royal Challengers Bangalore",
         2209
        ],
        [
         "2022",
         "Punjab Kings",
         1710
        ],
        [
         "2022",
         "Delhi Capitals",
         1657
        ],
        [
         "2022",
         "Kolkata Knight Riders",
         1400
        ],
        [
         "2022",
         "Sunrisers Hyderabad",
         1366
        ],
        [
         "2022",
         "Chennai Super Kings",
         991
        ],
        [
         "2022",
         "Mumbai Indians",
         938
        ],
        [
         "2023",
         "Gujarat Titans",
         2642
        ],
        [
         "2023",
         "Chennai Super Kings",
         2449
        ],
        [
         "2023",
         "Mumbai Indians",
         2173
        ],
        [
         "2023",
         "Lucknow Super Giants",
         1980
        ],
        [
         "2023",
         "Rajasthan Royals",
         1947
        ],
        [
         "2023",
         "Royal Challengers Bangalore",
         1646
        ],
        [
         "2023",
         "Kolkata Knight Riders",
         1479
        ],
        [
         "2023",
         "Punjab Kings",
         1477
        ],
        [
         "2023",
         "Delhi Capitals",
         1218
        ],
        [
         "2023",
         "Sunrisers Hyderabad",
         986
        ],
        [
         "2024",
         "Kolkata Knight Riders",
         3767
        ],
        [
         "2024",
         "Rajasthan Royals",
         2202
        ],
        [
         "2024",
         "Sunrisers Hyderabad",
         2190
        ],
        [
         "2024",
         "Lucknow Super Giants",
         1737
        ],
        [
         "2024",
         "Chennai Super Kings",
         1718
        ],
        [
         "2024",
         "Delhi Capitals",
         1669
        ],
        [
         "2024",
         "Royal Challengers Bengaluru",
         1668
        ],
        [
         "2024",
         "Gujarat Titans",
         1231
        ],
        [
         "2024",
         "Punjab Kings",
         1220
        ],
        [
         "2024",
         "Mumbai Indians",
         966
        ],
        [
         "2025",
         "Royal Challengers Bengaluru",
         473
        ],
        [
         "2025",
         "Sunrisers Hyderabad",
         262
        ],
        [
         "2025",
         "Punjab Kings",
         254
        ],
        [
         "2025",
         "Delhi Capitals",
         246
        ],
        [
         "2025",
         "Chennai Super Kings",
         243
        ],
        [
         "2025",
         "Kolkata Knight Riders",
         234
        ],
        [
         "2025",
         "Lucknow Super Giants",
         233
        ],
        [
         "Best: 3/7 vs RR Mumbai WS 202\"",
         null,
         1
        ],
        [
         "Binny st Karthik b Kuldeep Yadav 1(4)\"",
         null,
         6
        ],
        [
         "Rashid Khan's most expensive figures in five matches in IPL 2021",
         null,
         1
        ]
       ],
       "datasetInfos": [],
       "dbfsResultPath": null,
       "isJsonSchema": true,
       "metadata": {},
       "overflow": false,
       "plotOptions": {
        "customPlotOptions": {},
        "displayType": "table",
        "pivotAggregation": null,
        "pivotColumns": null,
        "xColumns": null,
        "yColumns": null
       },
       "removedWidgets": [],
       "schema": [
        {
         "metadata": "{}",
         "name": "year",
         "type": "\"string\""
        },
        {
         "metadata": "{}",
         "name": "match_winning_team",
         "type": "\"string\""
        },
        {
         "metadata": "{}",
         "name": "matches_won",
         "type": "\"long\""
        }
       ],
       "type": "table"
      }
     },
     "output_type": "display_data"
    }
   ],
   "source": [
    "wins_df = df.groupBy(\"year\", \"match_winning_team\") \\\n",
    "            .count() \\\n",
    "            .withColumnRenamed(\"count\", \"matches_won\") \\\n",
    "            .orderBy(\"year\", \"matches_won\", ascending=[True, False])\n",
    "\n",
    "display(wins_df)\n"
   ]
  },
  {
   "cell_type": "code",
   "execution_count": 0,
   "metadata": {
    "application/vnd.databricks.v1+cell": {
     "cellMetadata": {
      "byteLimit": 2048000,
      "rowLimit": 10000
     },
     "inputWidgets": {},
     "nuid": "bda7de77-8e4a-4e14-94ba-7ea2cbe8af45",
     "showTitle": false,
     "tableResultSettingsMap": {},
     "title": ""
    }
   },
   "outputs": [],
   "source": [
    "from pyspark.sql.functions import regexp_extract, col, when\n",
    "df_extracted = df.withColumn(\"bowler\", regexp_extract(col(\"ball_commentary\"), r\"^([^ ]+) to\", 1)) \\\n",
    "                 .withColumn(\"batsman\", regexp_extract(col(\"ball_commentary\"), r\"to ([^,]+)\", 1)) \\\n",
    "                 .withColumn(\"runs_text\", regexp_extract(col(\"ball_commentary\"), r\",\\s*([A-Z ]+|\\d+ run|FOUR|SIX|no run|1 run|2 runs|3 runs)\", 1)) \\\n",
    "                 .withColumn(\"runs\", when(col(\"runs_text\").rlike(\"no run\"), 0)\n",
    "                                   .when(col(\"runs_text\").rlike(\"FOUR\"), 4)\n",
    "                                   .when(col(\"runs_text\").rlike(\"SIX\"), 6)\n",
    "                                   .when(col(\"runs_text\").rlike(\"1 run\"), 1)\n",
    "                                   .when(col(\"runs_text\").rlike(\"2 runs\"), 2)\n",
    "                                   .when(col(\"runs_text\").rlike(\"3 runs\"), 3)\n",
    "                                   .otherwise(0)) \\\n",
    "                 .select(\"match_id\", \"ball_no\", \"ball_commentary\", \"bowler\", \"batsman\", \"runs\")\n"
   ]
  },
  {
   "cell_type": "code",
   "execution_count": 0,
   "metadata": {
    "application/vnd.databricks.v1+cell": {
     "cellMetadata": {
      "byteLimit": 2048000,
      "rowLimit": 10000
     },
     "inputWidgets": {},
     "nuid": "3ca138e1-0599-410c-aa6f-09d61512e1d4",
     "showTitle": false,
     "tableResultSettingsMap": {},
     "title": ""
    }
   },
   "outputs": [],
   "source": [
    "from pyspark.sql.functions import collect_list, collect_set\n",
    "batsmen_per_team = df.select(\"match_id\", \"team1_name\", \"team2_name\") \\\n",
    "    .join(df_extracted, on=\"match_id\", how=\"inner\")\n",
    "\n",
    "batsmen_summary = batsmen_per_team.groupBy(\"match_id\") \\\n",
    "    .agg(\n",
    "        collect_list(\"batsman\").alias(\"batsmen_list\"),\n",
    "        collect_set(\"batsman\").alias(\"batsmen_set\")\n",
    "    )\n",
    "\n",
    "display(batsmen_summary)\n"
   ]
  }
 ],
 "metadata": {
  "application/vnd.databricks.v1+notebook": {
   "computePreferences": null,
   "dashboards": [],
   "environmentMetadata": {
    "base_environment": "",
    "environment_version": "1"
   },
   "inputWidgetPreferences": null,
   "language": "python",
   "notebookMetadata": {
    "pythonIndentUnit": 4
   },
   "notebookName": "Task_5",
   "widgets": {}
  }
 },
 "nbformat": 4,
 "nbformat_minor": 0
}