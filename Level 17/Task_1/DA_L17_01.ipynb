{
 "cells": [
  {
   "cell_type": "code",
   "execution_count": 0,
   "metadata": {
    "application/vnd.databricks.v1+cell": {
     "cellMetadata": {
      "byteLimit": 2048000,
      "rowLimit": 10000
     },
     "inputWidgets": {},
     "nuid": "54f501ec-dc87-4871-a0df-8df3cfbf9c7b",
     "showTitle": false,
     "tableResultSettingsMap": {},
     "title": ""
    }
   },
   "outputs": [],
   "source": [
    "import pyspark"
   ]
  },
  {
   "cell_type": "code",
   "execution_count": 0,
   "metadata": {
    "application/vnd.databricks.v1+cell": {
     "cellMetadata": {
      "byteLimit": 2048000,
      "rowLimit": 10000
     },
     "inputWidgets": {},
     "nuid": "4985dacd-af36-49e0-965b-6c53d9116f32",
     "showTitle": false,
     "tableResultSettingsMap": {},
     "title": ""
    }
   },
   "outputs": [],
   "source": [
    "\n",
    "df = spark.table(\"default.ipl_over_data_2_csv\")\n",
    "\n"
   ]
  },
  {
   "cell_type": "code",
   "execution_count": 0,
   "metadata": {
    "application/vnd.databricks.v1+cell": {
     "cellMetadata": {
      "byteLimit": 2048000,
      "rowLimit": 10000
     },
     "inputWidgets": {},
     "nuid": "52f2b72e-0180-433b-bd41-7d8e2871570f",
     "showTitle": false,
     "tableResultSettingsMap": {},
     "title": ""
    }
   },
   "outputs": [],
   "source": [
    "spark.conf.set(\"spark.sql.session.timeZone\", \"Asia/Kolkata\") \n"
   ]
  },
  {
   "cell_type": "code",
   "execution_count": 0,
   "metadata": {
    "application/vnd.databricks.v1+cell": {
     "cellMetadata": {
      "byteLimit": 2048000,
      "rowLimit": 10000
     },
     "inputWidgets": {},
     "nuid": "6e011df6-66b6-4b2b-8001-e8a299346587",
     "showTitle": false,
     "tableResultSettingsMap": {},
     "title": ""
    }
   },
   "outputs": [
    {
     "output_type": "stream",
     "name": "stdout",
     "output_type": "stream",
     "text": [
      "+-------------------+----------+----------+\n|match_datetime     |match_date|match_time|\n+-------------------+----------+----------+\n|2021-04-09 19:30:00|2021-04-09|19:30:00  |\n|2021-04-09 19:30:00|2021-04-09|19:30:00  |\n|2021-04-09 19:30:00|2021-04-09|19:30:00  |\n|2021-04-09 19:30:00|2021-04-09|19:30:00  |\n|2021-04-09 19:30:00|2021-04-09|19:30:00  |\n|2021-04-09 19:30:00|2021-04-09|19:30:00  |\n|2021-04-09 19:30:00|2021-04-09|19:30:00  |\n|2021-04-09 19:30:00|2021-04-09|19:30:00  |\n|2021-04-09 19:30:00|2021-04-09|19:30:00  |\n|2021-04-09 19:30:00|2021-04-09|19:30:00  |\n|2021-04-09 19:30:00|2021-04-09|19:30:00  |\n|2021-04-09 19:30:00|2021-04-09|19:30:00  |\n|2021-04-09 19:30:00|2021-04-09|19:30:00  |\n|2021-04-09 19:30:00|2021-04-09|19:30:00  |\n|2021-04-09 19:30:00|2021-04-09|19:30:00  |\n|2021-04-09 19:30:00|2021-04-09|19:30:00  |\n|2021-04-09 19:30:00|2021-04-09|19:30:00  |\n|2021-04-09 19:30:00|2021-04-09|19:30:00  |\n|2021-04-09 19:30:00|2021-04-09|19:30:00  |\n|2021-04-09 19:30:00|2021-04-09|19:30:00  |\n+-------------------+----------+----------+\nonly showing top 20 rows\n\n"
     ]
    }
   ],
   "source": [
    "df = spark.read.option(\"header\", True).csv(\"/FileStore/shared_uploads/girish792004@gmail.com/ipl_over_data-2.csv\")\n",
    "\n",
    "from pyspark.sql.functions import col, to_timestamp, to_date, date_format\n",
    "\n",
    "df = df.withColumn(\"match_datetime\", to_timestamp(col(\"match_datetime\"))) \\\n",
    "       .withColumn(\"match_date\", to_date(col(\"match_datetime\"))) \\\n",
    "       .withColumn(\"match_time\", date_format(col(\"match_datetime\"), \"HH:mm:ss\"))\n",
    "\n",
    "df.select(\"match_datetime\", \"match_date\", \"match_time\").show(truncate=False)\n"
   ]
  },
  {
   "cell_type": "code",
   "execution_count": 0,
   "metadata": {
    "application/vnd.databricks.v1+cell": {
     "cellMetadata": {
      "byteLimit": 2048000,
      "rowLimit": 10000
     },
     "inputWidgets": {},
     "nuid": "ecb275ab-e550-4b04-9321-a5607053a401",
     "showTitle": false,
     "tableResultSettingsMap": {},
     "title": ""
    }
   },
   "outputs": [
    {
     "output_type": "stream",
     "name": "stdout",
     "output_type": "stream",
     "text": [
      "+----------+\n|match_time|\n+----------+\n|19:30:00  |\n|19:30:00  |\n|19:30:00  |\n|19:30:00  |\n|19:30:00  |\n|19:30:00  |\n|19:30:00  |\n|19:30:00  |\n|19:30:00  |\n|19:30:00  |\n|19:30:00  |\n|19:30:00  |\n|19:30:00  |\n|19:30:00  |\n|19:30:00  |\n+----------+\nonly showing top 15 rows\n\n"
     ]
    }
   ],
   "source": [
    "df.select(\"match_time\").show(15,truncate=False)"
   ]
  }
 ],
 "metadata": {
  "application/vnd.databricks.v1+notebook": {
   "computePreferences": null,
   "dashboards": [],
   "environmentMetadata": null,
   "inputWidgetPreferences": null,
   "language": "python",
   "notebookMetadata": {
    "pythonIndentUnit": 4
   },
   "notebookName": "DA_L17_01",
   "widgets": {}
  },
  "kernelspec": {
   "display_name": "Python 3 (ipykernel)",
   "language": "python",
   "name": "python3"
  },
  "language_info": {
   "codemirror_mode": {
    "name": "ipython",
    "version": 3
   },
   "file_extension": ".py",
   "mimetype": "text/x-python",
   "name": "python",
   "nbconvert_exporter": "python",
   "pygments_lexer": "ipython3",
   "version": "3.12.7"
  }
 },
 "nbformat": 4,
 "nbformat_minor": 0
}