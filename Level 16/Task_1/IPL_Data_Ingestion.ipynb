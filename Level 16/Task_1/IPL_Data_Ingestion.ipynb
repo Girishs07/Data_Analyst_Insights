{
 "cells": [
  {
   "cell_type": "code",
   "execution_count": 0,
   "metadata": {
    "application/vnd.databricks.v1+cell": {
     "cellMetadata": {
      "byteLimit": 2048000,
      "rowLimit": 10000
     },
     "inputWidgets": {},
     "nuid": "9f357607-7767-48a0-8760-4c19fc117241",
     "showTitle": false,
     "tableResultSettingsMap": {},
     "title": ""
    }
   },
   "outputs": [
    {
     "output_type": "stream",
     "name": "stdout",
     "output_type": "stream",
     "text": [
      "root\n |-- name: string (nullable = true)\n |-- href: string (nullable = true)\n |-- role: string (nullable = true)\n |-- profile_id: string (nullable = true)\n\n+----------------+--------------------+-------------+----------+\n|            name|                href|         role|profile_id|\n+----------------+--------------------+-------------+----------+\n|    Rohit sharma|https://www.cricb...|      captain|       576|\n|      Chris lynn|https://www.cricb...|   playing_11|      7752|\n|Suryakumar yadav|https://www.cricb...|   playing_11|      7915|\n|    Ishan kishan|https://www.cricb...|wicket_keeper|     10276|\n|   Hardik pandya|https://www.cricb...|   playing_11|      9647|\n+----------------+--------------------+-------------+----------+\nonly showing top 5 rows\n\n"
     ]
    }
   ],
   "source": [
    "ipl_raw_df = spark.read.option(\"header\", True)\\\n",
    "    .option(\"inferSchema\", False)\\\n",
    "    .csv(\"/FileStore/tables/ipl_players_href.csv\")\n",
    "\n",
    "ipl_raw_df.printSchema()\n",
    "ipl_raw_df.show(5)\n"
   ]
  },
  {
   "cell_type": "code",
   "execution_count": 0,
   "metadata": {
    "application/vnd.databricks.v1+cell": {
     "cellMetadata": {
      "byteLimit": 2048000,
      "rowLimit": 10000
     },
     "inputWidgets": {},
     "nuid": "4196f8c2-464a-4646-97e1-b99ac9fffba2",
     "showTitle": false,
     "tableResultSettingsMap": {},
     "title": ""
    }
   },
   "outputs": [
    {
     "output_type": "stream",
     "name": "stdout",
     "output_type": "stream",
     "text": [
      "root\n |-- name: string (nullable = true)\n |-- href: string (nullable = true)\n |-- role: string (nullable = true)\n |-- profile_id: integer (nullable = true)\n\n+----------------+--------------------+-------------+----------+\n|            name|                href|         role|profile_id|\n+----------------+--------------------+-------------+----------+\n|    Rohit sharma|https://www.cricb...|      captain|       576|\n|      Chris lynn|https://www.cricb...|   playing_11|      7752|\n|Suryakumar yadav|https://www.cricb...|   playing_11|      7915|\n|    Ishan kishan|https://www.cricb...|wicket_keeper|     10276|\n|   Hardik pandya|https://www.cricb...|   playing_11|      9647|\n+----------------+--------------------+-------------+----------+\nonly showing top 5 rows\n\n"
     ]
    }
   ],
   "source": [
    "from pyspark.sql.types import StructType, StructField, StringType, IntegerType, FloatType\n",
    "\n",
    "ipl_schema = StructType([\n",
    "    StructField(\"name\", StringType(), True),\n",
    "    StructField(\"href\", StringType(), True),\n",
    "    StructField(\"role\", StringType(), True),\n",
    "    StructField(\"profile_id\",IntegerType(),True)\n",
    "])\n",
    "\n",
    "ipl_enforced_df = spark.read.option(\"header\", True)\\\n",
    "    .schema(ipl_schema)\\\n",
    "    .csv(\"/FileStore/tables/ipl_players_href.csv\")\n",
    "\n",
    "ipl_enforced_df.printSchema()\n",
    "ipl_enforced_df.show(5)\n"
   ]
  },
  {
   "cell_type": "code",
   "execution_count": 0,
   "metadata": {
    "application/vnd.databricks.v1+cell": {
     "cellMetadata": {
      "byteLimit": 2048000,
      "rowLimit": 10000
     },
     "inputWidgets": {},
     "nuid": "1614fc8c-e7ac-4db5-84e5-a34db270b6ba",
     "showTitle": false,
     "tableResultSettingsMap": {},
     "title": ""
    }
   },
   "outputs": [
    {
     "output_type": "stream",
     "name": "stdout",
     "output_type": "stream",
     "text": [
      "root\n |-- year: string (nullable = true)\n |-- series_type: string (nullable = true)\n |-- series_name: string (nullable = true)\n |-- match_no: string (nullable = true)\n |-- match_type: string (nullable = true)\n |-- match_id: string (nullable = true)\n |-- match_venue: string (nullable = true)\n |-- match_status: string (nullable = true)\n |-- match_winning_team: string (nullable = true)\n |-- match_tie_breaker: string (nullable = true)\n |-- match_toss: string (nullable = true)\n |-- umpires: string (nullable = true)\n |-- match_referee: string (nullable = true)\n |-- third_umpires: string (nullable = true)\n |-- match_datetime: string (nullable = true)\n |-- team1_name: string (nullable = true)\n |-- team2_name: string (nullable = true)\n |-- team1_score: string (nullable = true)\n |-- team1_wickets: string (nullable = true)\n |-- team2_score: string (nullable = true)\n |-- team2_wickets: string (nullable = true)\n |-- team1_captain: string (nullable = true)\n |-- team1_players: string (nullable = true)\n |-- team1_bench: string (nullable = true)\n |-- team1_support_staff: string (nullable = true)\n |-- team2_captain: string (nullable = true)\n |-- team2_players: string (nullable = true)\n |-- team2_bench: string (nullable = true)\n |-- team2_support_staff: string (nullable = true)\n |-- over_no: string (nullable = true)\n |-- over_total_runs: string (nullable = true)\n |-- over_summary: string (nullable = true)\n |-- over_batsman1_name: string (nullable = true)\n |-- over_batsman1_curr_scr: string (nullable = true)\n |-- over_batsman1_played_balls: string (nullable = true)\n |-- over_batsman2_name: string (nullable = true)\n |-- over_batsman2_curr_scr: string (nullable = true)\n |-- over_batsman2_played_balls: string (nullable = true)\n |-- over_bowler_name: string (nullable = true)\n |-- over_bowler_bowled_overs: string (nullable = true)\n |-- over_bowler_bowled_maidens: string (nullable = true)\n |-- over_bowler_bowled_runs: string (nullable = true)\n |-- over_bowler_bowled_wickets: string (nullable = true)\n\n+----+-----------+--------------------+---------+----------+--------+--------------------+------------+--------------------+-----------------+--------------------+--------------------+--------------------+--------------------+--------------------+----------+----------+-----------+-------------+-----------+-------------+-------------+-------------+--------------------+-------------------+-------------+-------------+--------------------+-------------------+-------+---------------+------------+------------------+----------------------+--------------------------+------------------+----------------------+--------------------------+----------------+------------------------+--------------------------+-----------------------+--------------------------+\n|year|series_type|         series_name| match_no|match_type|match_id|         match_venue|match_status|  match_winning_team|match_tie_breaker|          match_toss|             umpires|       match_referee|       third_umpires|      match_datetime|team1_name|team2_name|team1_score|team1_wickets|team2_score|team2_wickets|team1_captain|team1_players|         team1_bench|team1_support_staff|team2_captain|team2_players|         team2_bench|team2_support_staff|over_no|over_total_runs|over_summary|over_batsman1_name|over_batsman1_curr_scr|over_batsman1_played_balls|over_batsman2_name|over_batsman2_curr_scr|over_batsman2_played_balls|over_bowler_name|over_bowler_bowled_overs|over_bowler_bowled_maidens|over_bowler_bowled_runs|over_bowler_bowled_wickets|\n+----+-----------+--------------------+---------+----------+--------+--------------------+------------+--------------------+-----------------+--------------------+--------------------+--------------------+--------------------+--------------------+----------+----------+-----------+-------------+-----------+-------------+-------------+-------------+--------------------+-------------------+-------------+-------------+--------------------+-------------------+-------+---------------+------------+------------------+----------------------+--------------------------+------------------+----------------------+--------------------------+----------------+------------------------+--------------------------+-----------------------+--------------------------+\n|2021| T20 League|Indian Premier Le...|1st Match|   T20 IPL|   35612|{'stadium': 'MA C...|   completed|Royal Challengers...|             null|Royal Challengers...|KN Anantha Padman...|Vengalil Narayana...|Chettithody Shams...|2021-04-09 19:30:...|        MI|       RCB|        159|            9|        160|            8|         null|           []|Nathan Coulter-Ni...|               null|         null|           []|Adam Zampa, Devdu...|               null|      1|              5| 2 0 0 2 0 1|      Rohit Sharma|                     5|                         6|        Chris Lynn|                     0|                         0|  Mohammed Siraj|                       1|                         0|                      5|                         0|\n|2021| T20 League|Indian Premier Le...|1st Match|   T20 IPL|   35612|{'stadium': 'MA C...|   completed|Royal Challengers...|             null|Royal Challengers...|KN Anantha Padman...|Vengalil Narayana...|Chettithody Shams...|2021-04-09 19:30:...|        MI|       RCB|        159|            9|        160|            8|         null|           []|Nathan Coulter-Ni...|               null|         null|           []|Adam Zampa, Devdu...|               null|      2|              1| 1 0 0 0 0 0|        Chris Lynn|                     0|                         5|      Rohit Sharma|                     6|                         7|   Kyle Jamieson|                       1|                         0|                      1|                         0|\n|2021| T20 League|Indian Premier Le...|1st Match|   T20 IPL|   35612|{'stadium': 'MA C...|   completed|Royal Challengers...|             null|Royal Challengers...|KN Anantha Padman...|Vengalil Narayana...|Chettithody Shams...|2021-04-09 19:30:...|        MI|       RCB|        159|            9|        160|            8|         null|           []|Nathan Coulter-Ni...|               null|         null|           []|Adam Zampa, Devdu...|               null|      3|              6| 0 0 0 0 4 2|      Rohit Sharma|                    12|                        13|        Chris Lynn|                     0|                         5|  Mohammed Siraj|                       2|                         0|                     11|                         0|\n|2021| T20 League|Indian Premier Le...|1st Match|   T20 IPL|   35612|{'stadium': 'MA C...|   completed|Royal Challengers...|             null|Royal Challengers...|KN Anantha Padman...|Vengalil Narayana...|Chettithody Shams...|2021-04-09 19:30:...|        MI|       RCB|        159|            9|        160|            8|         null|           []|Nathan Coulter-Ni...|               null|         null|           []|Adam Zampa, Devdu...|               null|      4|             12| 0 4 1 6 1 W|        Chris Lynn|                     5|                         9|      Rohit Sharma|                    19|                        15|Yuzvendra Chahal|                       1|                         0|                     12|                         0|\n|2021| T20 League|Indian Premier Le...|1st Match|   T20 IPL|   35612|{'stadium': 'MA C...|   completed|Royal Challengers...|             null|Royal Challengers...|KN Anantha Padman...|Vengalil Narayana...|Chettithody Shams...|2021-04-09 19:30:...|        MI|       RCB|        159|            9|        160|            8|         null|           []|Nathan Coulter-Ni...|               null|         null|           []|Adam Zampa, Devdu...|               null|      5|              6| 4 0 1 1 0 0|  Suryakumar Yadav|                     5|                         5|        Chris Lynn|                     6|                        10|   Kyle Jamieson|                       2|                         0|                      7|                         0|\n+----+-----------+--------------------+---------+----------+--------+--------------------+------------+--------------------+-----------------+--------------------+--------------------+--------------------+--------------------+--------------------+----------+----------+-----------+-------------+-----------+-------------+-------------+-------------+--------------------+-------------------+-------------+-------------+--------------------+-------------------+-------+---------------+------------+------------------+----------------------+--------------------------+------------------+----------------------+--------------------------+----------------+------------------------+--------------------------+-----------------------+--------------------------+\nonly showing top 5 rows\n\n"
     ]
    }
   ],
   "source": [
    "ipl_over_df = spark.read.option(\"header\", True)\\\n",
    "    .option(\"inferSchema\", False)\\\n",
    "    .csv(\"/FileStore/tables/ipl_over_data.csv\")\n",
    "\n",
    "ipl_over_df.printSchema()\n",
    "ipl_over_df.show(5)\n"
   ]
  },
  {
   "cell_type": "code",
   "execution_count": 0,
   "metadata": {
    "application/vnd.databricks.v1+cell": {
     "cellMetadata": {
      "byteLimit": 2048000,
      "rowLimit": 10000
     },
     "inputWidgets": {},
     "nuid": "47790433-ad7a-4943-aea4-28d03bbde5f4",
     "showTitle": false,
     "tableResultSettingsMap": {},
     "title": ""
    }
   },
   "outputs": [
    {
     "output_type": "stream",
     "name": "stdout",
     "output_type": "stream",
     "text": [
      "Out[16]: ['name', 'href', 'role', 'profile_id']"
     ]
    }
   ],
   "source": [
    "ipl_raw_df.columns"
   ]
  }
 ],
 "metadata": {
  "application/vnd.databricks.v1+notebook": {
   "computePreferences": null,
   "dashboards": [],
   "environmentMetadata": {
    "base_environment": "",
    "environment_version": "1"
   },
   "inputWidgetPreferences": null,
   "language": "python",
   "notebookMetadata": {
    "pythonIndentUnit": 4
   },
   "notebookName": "IPL_Data_Ingestion",
   "widgets": {}
  }
 },
 "nbformat": 4,
 "nbformat_minor": 0
}